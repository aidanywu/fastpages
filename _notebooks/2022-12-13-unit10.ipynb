{
 "cells": [
  {
   "attachments": {},
   "cell_type": "markdown",
   "metadata": {},
   "source": [
    "# Unit 10 Recursion Notes & HW\n",
    "\n",
    "- toc: false \n",
    "- badges: false\n",
    "- comments: false\n",
    "- categories: [jupyter]"
   ]
  },
  {
   "attachments": {},
   "cell_type": "markdown",
   "metadata": {},
   "source": [
    "# Notes\n",
    "* A recursive method is method that calls itself.\n",
    "* It contains at least one base case that halts recursion and once recursive call\n",
    "* Each recursive call has own local variables\n",
    "* Parameter values take progress of recursive process\n",
    "* A recursion can be replaced with an iterative and give the same result\n",
    "* Recursion can traverse String, array, and ArrayList objects\n",
    "* binary search - sorted in order to maximize efficiency\n",
    "* Linear recursion - only calls itself once\n",
    "* Selection sort - finds the minimum value\n",
    "* Merge sort - divides the input array into two halves, calls itself for the two halves, and then merges the two sorted halves"
   ]
  },
  {
   "attachments": {},
   "cell_type": "markdown",
   "metadata": {},
   "source": [
    "# Homework\n",
    "Google Form"
   ]
  }
 ],
 "metadata": {
  "kernelspec": {
   "display_name": "Java",
   "language": "java",
   "name": "java"
  },
  "language_info": {
   "codemirror_mode": "java",
   "file_extension": ".jshell",
   "mimetype": "text/x-java-source",
   "name": "java",
   "pygments_lexer": "java",
   "version": "11.0.16+8-post-Ubuntu-0ubuntu120.04"
  },
  "orig_nbformat": 4,
  "vscode": {
   "interpreter": {
    "hash": "59ce7d6bb8cd4ae6d5cf8ba5759d47519be8aa1ee658f53dd34a0e354aee55b2"
   }
  }
 },
 "nbformat": 4,
 "nbformat_minor": 2
}
