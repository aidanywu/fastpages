{
 "cells": [
  {
   "cell_type": "markdown",
   "metadata": {},
   "source": [
    "# Unit 6 Array Notes & HW\n",
    "\n",
    "- toc: false \n",
    "- badges: false\n",
    "- comments: false\n",
    "- categories: [jupyter]"
   ]
  },
  {
   "cell_type": "markdown",
   "metadata": {},
   "source": [
    "# Notes\n",
    "* Arrays are objects defined by type[] name = new type[size] or initialized with elements using type[] name =  new type[]{a,b,c,...}\n",
    "* Loops an enhanced can iterate through arrays\n",
    "* Index goes from 0 to size-1\n",
    "* Algorithms can be used to modify or get info about arrays"
   ]
  },
  {
   "cell_type": "markdown",
   "metadata": {},
   "source": [
    "# Homework\n",
    "* Create a class for 2D array learning.\n",
    "* Create a method too initialize a 2D array with arbitrary values\n",
    "* Create a method to reverse the 2D array and print out the values\n",
    "* Create a method that asks for the input of a position and it returns the corresponding value\n",
    "* Create a method that multiplies each value in a row and then adds all the products together\n",
    "* Create a new object to test out each method in the main function"
   ]
  },
  {
   "cell_type": "code",
   "execution_count": 13,
   "metadata": {
    "vscode": {
     "languageId": "java"
    }
   },
   "outputs": [
    {
     "name": "stdout",
     "output_type": "stream",
     "text": [
      "Arbitrary Values:\n",
      "7 6 2 6 7 \n",
      "2 2 3 1 3 \n",
      "0 4 4 0 0 \n",
      "2 3 1 2 1 \n",
      "1 0 1 1 1 \n",
      "Reversed Array:\n",
      "1 1 1 0 1 \n",
      "1 2 1 3 2 \n",
      "0 0 4 4 0 \n",
      "3 1 3 2 2 \n",
      "7 6 2 6 7 \n",
      "Value of arr[4][2]:\n",
      "Enter Row: 4\n",
      "Enter Column: 2\n",
      "1\n",
      "Sum of row products: 3576\n"
     ]
    }
   ],
   "source": [
    "import java.util.Scanner;\n",
    "\n",
    "public class Arrays {\n",
    "    int[][] arr = new int[5][5];\n",
    "\n",
    "    public void setArbitraryArray() {\n",
    "        for (int i = 0; i<arr.length; i++) {\n",
    "            for (int j = 0; j<arr[i].length; j++) {\n",
    "                arr[i][j] = (int) (Math.random()*20)/ (i+2);\n",
    "                System.out.print(arr[i][j] + \" \");\n",
    "            }\n",
    "            System.out.println();\n",
    "        }\n",
    "    }\n",
    "\n",
    "    public void reverseArray() {\n",
    "        for (int i = arr.length-1; i >= 0; i--) {\n",
    "            for (int j = arr[i].length-1; j >= 0; j--) {\n",
    "                System.out.print(arr[i][j] + \" \");\n",
    "            }\n",
    "            System.out.println();\n",
    "        }\n",
    "    }\n",
    "\n",
    "    public void findValue() {\n",
    "        Scanner scanner = new Scanner(System.in);\n",
    "        System.out.print(\"Enter Row: \");\n",
    "        int row = scanner.nextInt();\n",
    "        System.out.println(row);\n",
    "        System.out.print(\"Enter Column: \");\n",
    "        int col = scanner.nextInt();\n",
    "        System.out.println(col);\n",
    "        System.out.println(arr[row][col]);\n",
    "    }\n",
    "\n",
    "    public void rowProduct() {\n",
    "        int sum = 0;\n",
    "        for (int i = 0; i < arr.length; i++) {\n",
    "            int prod = 1;\n",
    "            for (int j = 0; j <arr[i].length; j++) {\n",
    "                prod = prod * arr[i][j];\n",
    "            }\n",
    "            sum += prod;\n",
    "        }\n",
    "        System.out.println(\"Sum of row products: \" + sum);\n",
    "    }\n",
    "\n",
    "    public static void main(String[] args) {\n",
    "        Arrays arr = new Arrays();\n",
    "        System.out.println(\"Arbitrary Values:\");\n",
    "        arr.setArbitraryArray();\n",
    "        System.out.println(\"Reversed Array:\");\n",
    "        arr.reverseArray();\n",
    "        System.out.println(\"Value of arr[4][2]:\");\n",
    "        arr.findValue();\n",
    "        arr.rowProduct();\n",
    "    }\n",
    "}\n",
    "Arrays.main(null);"
   ]
  }
 ],
 "metadata": {
  "kernelspec": {
   "display_name": "Java",
   "language": "java",
   "name": "java"
  },
  "language_info": {
   "codemirror_mode": "java",
   "file_extension": ".jshell",
   "mimetype": "text/x-java-source",
   "name": "Java",
   "pygments_lexer": "java",
   "version": "11.0.17+8-post-Ubuntu-1ubuntu220.04"
  },
  "orig_nbformat": 4,
  "vscode": {
   "interpreter": {
    "hash": "59ce7d6bb8cd4ae6d5cf8ba5759d47519be8aa1ee658f53dd34a0e354aee55b2"
   }
  }
 },
 "nbformat": 4,
 "nbformat_minor": 2
}
