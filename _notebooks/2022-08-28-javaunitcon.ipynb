{
 "cells": [
  {
   "cell_type": "markdown",
   "metadata": {},
   "source": [
    "# Unit Converter\n",
    "> A unit converter for only meters, feet, and miles, coded in Java, demonstrating understanding of primitives.\n",
    "\n",
    "- toc: false \n",
    "- badges: false\n",
    "- comments: false\n",
    "- categories: [jupyter]"
   ]
  },
  {
   "cell_type": "code",
   "execution_count": 17,
   "metadata": {},
   "outputs": [
    {
     "name": "stdout",
     "output_type": "stream",
     "text": [
      "In what unit is your current number in? (1=meters;2=feet;3=miles)\n",
      "3\n",
      "whats the number you want to convert\n",
      "69.0\n",
      "69.0 in meters is 111044.45999999999 m\n",
      "69.0 in feet is 364320.0 ft\n"
     ]
    }
   ],
   "source": [
    "import java.util.Scanner;\n",
    "\n",
    "public class UnitConverter {\n",
    "    public static void main(String[] args) {\n",
    "        int choice = 0;\n",
    "        double num = 0.0;\n",
    "        Scanner in = new Scanner(System.in);\n",
    "        System.out.print(\"In what unit is your current number in? (1=meters;2=feet;3=miles)\\n\");\n",
    "        try {\n",
    "            choice = in.nextInt();\n",
    "            System.out.println(choice);\n",
    "        } catch (Exception e) {\n",
    "            System.out.println(\"not an int\");\n",
    "        }\n",
    "        in.close();\n",
    "        in = new Scanner(System.in);\n",
    "        System.out.print(\"whats the number you want to convert\\n\");\n",
    "        try {\n",
    "            num = in.nextDouble();\n",
    "            System.out.println(num);\n",
    "        } catch (Exception e) {\n",
    "            System.out.println(\"not a double\");\n",
    "        }\n",
    "        in.close();\n",
    "        if (choice==1) {\n",
    "            double feet = num*3.28084;\n",
    "            double miles = num*0.000621371;\n",
    "            System.out.println(num + \" in feet is \" + feet + \" ft\\n\" + num + \" in miles is \" + miles + \" mi\");\n",
    "        }\n",
    "        else if (choice==2) {\n",
    "            double meter = num*0.3048;\n",
    "            double miles = num/5280;\n",
    "            System.out.println(num + \" in meters is \" + meter + \" m\\n\" + num + \" in miles is \" + miles + \" mi\");\n",
    "        }\n",
    "        else if (choice==3) {\n",
    "            double meter = num*1609.34;\n",
    "            double feet = num*5280;\n",
    "            System.out.println(num + \" in meters is \" + meter + \" m\\n\" + num + \" in feet is \" + feet + \" ft\");\n",
    "        }\n",
    "    }\n",
    "}\n",
    "\n",
    "UnitConverter.main(null);"
   ]
  }
 ],
 "metadata": {
  "kernelspec": {
   "display_name": "Java",
   "language": "java",
   "name": "java"
  },
  "language_info": {
   "codemirror_mode": "java",
   "file_extension": ".jshell",
   "mimetype": "text/x-java-source",
   "name": "java",
   "pygments_lexer": "java",
   "version": "11.0.16+8-post-Ubuntu-0ubuntu120.04"
  },
  "varInspector": {
   "cols": {
    "lenName": 16,
    "lenType": 16,
    "lenVar": 40
   },
   "kernels_config": {
    "python": {
     "delete_cmd_postfix": "",
     "delete_cmd_prefix": "del ",
     "library": "var_list.py",
     "varRefreshCmd": "print(var_dic_list())"
    },
    "r": {
     "delete_cmd_postfix": ") ",
     "delete_cmd_prefix": "rm(",
     "library": "var_list.r",
     "varRefreshCmd": "cat(var_dic_list()) "
    }
   },
   "types_to_exclude": [
    "module",
    "function",
    "builtin_function_or_method",
    "instance",
    "_Feature"
   ],
   "window_display": false
  },
  "vscode": {
   "interpreter": {
    "hash": "c69ba0219762c743a26907e58efe9d6071bb680bc026421f46e0ab6aac56644e"
   }
  }
 },
 "nbformat": 4,
 "nbformat_minor": 4
}
