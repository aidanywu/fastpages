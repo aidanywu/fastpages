{
 "cells": [
  {
   "cell_type": "markdown",
   "metadata": {},
   "source": [
    "# Free Response Question No. 1\n",
    "> FRQ\n",
    "\n",
    "- toc: false \n",
    "- badges: false\n",
    "- comments: false\n",
    "- categories: [jupyter]"
   ]
  },
  {
   "cell_type": "markdown",
   "metadata": {},
   "source": [
    "# 2021 FRQ 1\n",
    "##### 1)\n",
    "##### a)"
   ]
  },
  {
   "cell_type": "code",
   "execution_count": null,
   "metadata": {},
   "outputs": [],
   "source": [
    "public class WordMatch {\n",
    "    /** The secret string. */\n",
    "    private String secret;\n",
    "    /** Constructs a WordMatch object with the given secret string of lowercase letters. */\n",
    "    public WordMatch (String word) {\n",
    "        /* implementation not shown */\n",
    "    }\n",
    "    /** Returns a score for guess, as described in part (a).\n",
    "    * Precondition: 0 < guess.length() <= secret.length()\n",
    "    */\n",
    "    public int scoreGuess (String guess) {\n",
    "        int score = 0;\n",
    "        for (int i = 0; i < secret.length()-guess.length(); i++) {\n",
    "            if (secret.substring(i + guess.length()).equals(guess)) {\n",
    "                score++;\n",
    "            }\n",
    "        }\n",
    "        return score * guess.length() * guess.length();\n",
    "    }\n",
    "    public String findBetterGuess (String guess1, String guess2) {\n",
    "        // part b\n",
    "    }\n",
    "}"
   ]
  },
  {
   "cell_type": "markdown",
   "metadata": {},
   "source": [
    "## Comments\n",
    "I had to google how to do substring in java but that was the only hard part"
   ]
  },
  {
   "cell_type": "markdown",
   "metadata": {},
   "source": [
    "##### b)"
   ]
  },
  {
   "cell_type": "code",
   "execution_count": null,
   "metadata": {},
   "outputs": [],
   "source": [
    "public class WordMatch {\n",
    "    /** The secret string. */\n",
    "    private String secret;\n",
    "    /** Constructs a WordMatch object with the given secret string of lowercase letters. */\n",
    "    public WordMatch (String word) {\n",
    "        /* implementation not shown */\n",
    "    }\n",
    "    /** Returns a score for guess, as described in part (a).\n",
    "    * Precondition: 0 < guess.length() <= secret.length()\n",
    "    */\n",
    "    public int scoreGuess (String guess) {\n",
    "        // part a\n",
    "    }\n",
    "    public String findBetterGuess (String guess1, String guess2) {\n",
    "        if (scoreGuess(guess1) > scoreGuess(guess2)) {\n",
    "            return guess1;\n",
    "        } else if (scoreGuess(guess1) < scoreGuess(guess2)) {\n",
    "            return guess2;\n",
    "        } else if (guess1.compareTo(guess2) > 0) {\n",
    "            return guess1;\n",
    "        }\n",
    "    }\n",
    "}"
   ]
  },
  {
   "cell_type": "markdown",
   "metadata": {},
   "source": [
    "## Comments\n",
    "The first two ifs were very simple but the alphabetical condition was a little more difficult. I didn't know how to compare effectively in Java and I had to google, find out about the compareTo() function, then learn what it does."
   ]
  }
 ],
 "metadata": {
  "kernelspec": {
   "display_name": "Java",
   "language": "java",
   "name": "java"
  },
  "language_info": {
   "codemirror_mode": "java",
   "file_extension": ".jshell",
   "mimetype": "text/x-java-source",
   "name": "java",
   "pygments_lexer": "java",
   "version": "3.8.10"
  },
  "orig_nbformat": 4,
  "vscode": {
   "interpreter": {
    "hash": "916dbcbb3f70747c44a77c7bcd40155683ae19c65e1c03b4aa3499c5328201f1"
   }
  }
 },
 "nbformat": 4,
 "nbformat_minor": 2
}
