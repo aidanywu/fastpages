{
 "cells": [
  {
   "cell_type": "markdown",
   "metadata": {},
   "source": [
    "# Vocabs\n",
    "\n",
    "- toc: true \n",
    "- badges: false\n",
    "- comments: false\n",
    "- categories: [jupyter]"
   ]
  },
  {
   "attachments": {},
   "cell_type": "markdown",
   "metadata": {},
   "source": [
    "# Unit 6\n",
    "* Arrays are a type of data structure that contains a collection of data\n",
    "  * data in a Java array can be primitive or referenced\n",
    "* Element → one value in an array\n",
    "* Index → the position of the value in array (most languages, including Java, use 0 indexing)\n",
    "* Arrays are objects defined by type[] name = new type[size] or initialized with elements using type[] name =  new type[]{a,b,c,...}\n",
    "* Traversing an array is accessing the values inside of it\n",
    "  * Enhanced for loops can iterate through arrays\n",
    "* Index goes from 0 to size-1\n",
    "* Algorithms can be used to modify or get info about arrays\n",
    "  * Finding sums of arrays, finding every other element in the array, check for duplicates\n",
    "* Uninitialized and Unfilled Arrays - Allocate a single array variable but not the whole array"
   ]
  },
  {
   "cell_type": "code",
   "execution_count": 5,
   "metadata": {},
   "outputs": [],
   "source": [
    "int[] arraytest = new int[5];\n",
    "int[] arraytest2 = {2, 4, 21, 6, 11};"
   ]
  },
  {
   "cell_type": "code",
   "execution_count": 6,
   "metadata": {},
   "outputs": [
    {
     "name": "stdout",
     "output_type": "stream",
     "text": [
      "0\n"
     ]
    }
   ],
   "source": [
    "System.out.println(arraytest[2]);"
   ]
  },
  {
   "cell_type": "code",
   "execution_count": 7,
   "metadata": {},
   "outputs": [
    {
     "ename": "EvalException",
     "evalue": "Index 5 out of bounds for length 5",
     "output_type": "error",
     "traceback": [
      "\u001b[1m\u001b[31m---------------------------------------------------------------------------\u001b[0m",
      "\u001b[1m\u001b[31mjava.lang.ArrayIndexOutOfBoundsException: Index 5 out of bounds for length 5\u001b[0m",
      "\u001b[1m\u001b[31m\tat .(#18:1)\u001b[0m"
     ]
    }
   ],
   "source": [
    "arraytest[5];"
   ]
  },
  {
   "cell_type": "code",
   "execution_count": 8,
   "metadata": {},
   "outputs": [
    {
     "name": "stdout",
     "output_type": "stream",
     "text": [
      "2\n",
      "4\n",
      "21\n",
      "6\n",
      "11\n"
     ]
    }
   ],
   "source": [
    "for(int i = 0; i < arraytest2.length; i++){\n",
    "\tSystem.out.println(arraytest2[i]);\n",
    "}"
   ]
  },
  {
   "attachments": {},
   "cell_type": "markdown",
   "metadata": {},
   "source": [
    "# Unit 7\n",
    "* Wrapper class stores prim in objects\n",
    "* make sure to specify the data type\n",
    "* return arraylist using the return command\n",
    "* traverse arraylist through for loops and while loops\n",
    "* get() to get an element\n",
    "* size() to get size\n",
    "* add(int index, element)\n",
    "* addAll(int index, Collection collection)\n",
    "* clear()\n",
    "* remove(int index)\n",
    "* remove(element)\n",
    "* get(int index)\n",
    "* set(int index, element)"
   ]
  },
  {
   "cell_type": "code",
   "execution_count": null,
   "metadata": {},
   "outputs": [
    {
     "name": "stdout",
     "output_type": "stream",
     "text": [
      "[aa, bb, dd, ii]\n"
     ]
    }
   ],
   "source": [
    "// Importing\n",
    "import java.util.ArrayList;\n",
    "\n",
    "// Creating an ArrayList\n",
    "ArrayList<String> array = new ArrayList<>();\n",
    "array.add(\"aa\");\n",
    "array.add(\"bb\");\n",
    "array.add(\"dd\");\n",
    "array.add(\"ii\");\n",
    "System.out.println(array);"
   ]
  },
  {
   "cell_type": "code",
   "execution_count": null,
   "metadata": {},
   "outputs": [
    {
     "name": "stdout",
     "output_type": "stream",
     "text": [
      "[ee, ff, ff, gg, hh]\n"
     ]
    }
   ],
   "source": [
    "ArrayList<String> array1 = new ArrayList<>();\n",
    "array1.add(\"ee\");\n",
    "array1.add(\"ff\");\n",
    "array1.add(\"ff\");\n",
    "array1.add(\"gg\");\n",
    "array1.add(\"hh\");\n",
    "System.out.println(array1);"
   ]
  },
  {
   "cell_type": "code",
   "execution_count": null,
   "metadata": {},
   "outputs": [
    {
     "name": "stdout",
     "output_type": "stream",
     "text": [
      "[aa, bb, cc, dd, ii]\n"
     ]
    }
   ],
   "source": [
    "// add(int index, element)\n",
    "array.add(2, \"cc\");\n",
    "System.out.println(array);"
   ]
  },
  {
   "cell_type": "code",
   "execution_count": null,
   "metadata": {},
   "outputs": [
    {
     "name": "stdout",
     "output_type": "stream",
     "text": [
      "[aa, bb, cc, dd, ee, ff, ff, gg, hh, ii]\n"
     ]
    }
   ],
   "source": [
    "// addAll(int index, Collection collection)\n",
    "array.addAll(4, array1);\n",
    "System.out.println(array);"
   ]
  },
  {
   "cell_type": "code",
   "execution_count": null,
   "metadata": {},
   "outputs": [
    {
     "data": {
      "text/plain": [
       "10"
      ]
     },
     "metadata": {},
     "output_type": "display_data"
    }
   ],
   "source": [
    "// size()\n",
    "array.size();"
   ]
  },
  {
   "cell_type": "code",
   "execution_count": null,
   "metadata": {},
   "outputs": [
    {
     "name": "stdout",
     "output_type": "stream",
     "text": [
      "[]\n"
     ]
    }
   ],
   "source": [
    "// clear()\n",
    "array1.clear();\n",
    "System.out.println(array1);"
   ]
  },
  {
   "cell_type": "code",
   "execution_count": null,
   "metadata": {},
   "outputs": [
    {
     "name": "stdout",
     "output_type": "stream",
     "text": [
      "[aa, bb, cc, dd, ee, ff, gg, hh, ii]\n"
     ]
    }
   ],
   "source": [
    "// remove(int index)\n",
    "array.remove(6);\n",
    "System.out.println(array);"
   ]
  },
  {
   "cell_type": "code",
   "execution_count": null,
   "metadata": {},
   "outputs": [
    {
     "name": "stdout",
     "output_type": "stream",
     "text": [
      "[aa, bb, cc, dd, ee, ff, gg, hh]\n"
     ]
    }
   ],
   "source": [
    "// remove(element)\n",
    "array.remove(\"ii\");\n",
    "System.out.println(array);"
   ]
  },
  {
   "cell_type": "code",
   "execution_count": null,
   "metadata": {},
   "outputs": [
    {
     "data": {
      "text/plain": [
       "ff"
      ]
     },
     "metadata": {},
     "output_type": "display_data"
    }
   ],
   "source": [
    "// get(int index)\n",
    "array.get(5);"
   ]
  },
  {
   "cell_type": "code",
   "execution_count": null,
   "metadata": {},
   "outputs": [
    {
     "name": "stdout",
     "output_type": "stream",
     "text": [
      "[aa, bb, cc, dd, ee, dd, gg, hh]\n"
     ]
    }
   ],
   "source": [
    "// set(int index, element)\n",
    "array.set(5, \"dd\");\n",
    "System.out.println(array);"
   ]
  },
  {
   "cell_type": "code",
   "execution_count": null,
   "metadata": {},
   "outputs": [
    {
     "data": {
      "text/plain": [
       "3"
      ]
     },
     "metadata": {},
     "output_type": "display_data"
    }
   ],
   "source": [
    "// indexOf(element)\n",
    "array.indexOf(\"dd\");"
   ]
  },
  {
   "cell_type": "code",
   "execution_count": null,
   "metadata": {},
   "outputs": [
    {
     "data": {
      "text/plain": [
       "-1"
      ]
     },
     "metadata": {},
     "output_type": "display_data"
    }
   ],
   "source": [
    "array.indexOf(\"ff\");"
   ]
  },
  {
   "cell_type": "code",
   "execution_count": null,
   "metadata": {},
   "outputs": [
    {
     "data": {
      "text/plain": [
       "5"
      ]
     },
     "metadata": {},
     "output_type": "display_data"
    }
   ],
   "source": [
    "// lastIndexOf(element)\n",
    "array.lastIndexOf(\"dd\");"
   ]
  },
  {
   "cell_type": "code",
   "execution_count": null,
   "metadata": {},
   "outputs": [
    {
     "data": {
      "text/plain": [
       "-1"
      ]
     },
     "metadata": {},
     "output_type": "display_data"
    }
   ],
   "source": [
    "array.lastIndexOf(\"ii\")"
   ]
  },
  {
   "cell_type": "code",
   "execution_count": null,
   "metadata": {},
   "outputs": [
    {
     "data": {
      "text/plain": [
       "false"
      ]
     },
     "metadata": {},
     "output_type": "display_data"
    }
   ],
   "source": [
    "// equals(element)\n",
    "array.equals(array1);"
   ]
  },
  {
   "cell_type": "code",
   "execution_count": null,
   "metadata": {},
   "outputs": [
    {
     "data": {
      "text/plain": [
       "true"
      ]
     },
     "metadata": {},
     "output_type": "display_data"
    }
   ],
   "source": [
    "ArrayList<String> equal = new ArrayList<>(Arrays.asList(\"aa\", \"bb\", \"cc\", \"dd\", \"ee\", \"dd\", \"gg\", \"hh\"));\n",
    "array.equals(equal);"
   ]
  },
  {
   "cell_type": "code",
   "execution_count": null,
   "metadata": {},
   "outputs": [
    {
     "data": {
      "text/plain": [
       "-152662207"
      ]
     },
     "metadata": {},
     "output_type": "display_data"
    }
   ],
   "source": [
    "// hashCode()\n",
    "array.hashCode();"
   ]
  },
  {
   "cell_type": "code",
   "execution_count": null,
   "metadata": {},
   "outputs": [
    {
     "data": {
      "text/plain": [
       "false"
      ]
     },
     "metadata": {},
     "output_type": "display_data"
    }
   ],
   "source": [
    "// isEmpty()\n",
    "array.isEmpty();"
   ]
  },
  {
   "cell_type": "code",
   "execution_count": null,
   "metadata": {},
   "outputs": [
    {
     "data": {
      "text/plain": [
       "true"
      ]
     },
     "metadata": {},
     "output_type": "display_data"
    }
   ],
   "source": [
    "array1.isEmpty();"
   ]
  },
  {
   "cell_type": "code",
   "execution_count": null,
   "metadata": {},
   "outputs": [
    {
     "data": {
      "text/plain": [
       "true"
      ]
     },
     "metadata": {},
     "output_type": "display_data"
    }
   ],
   "source": [
    "// contains(element)\n",
    "array.contains(\"bb\");"
   ]
  },
  {
   "cell_type": "code",
   "execution_count": null,
   "metadata": {},
   "outputs": [
    {
     "data": {
      "text/plain": [
       "false"
      ]
     },
     "metadata": {},
     "output_type": "display_data"
    }
   ],
   "source": [
    "array.contains(\"kk\");"
   ]
  },
  {
   "cell_type": "code",
   "execution_count": null,
   "metadata": {},
   "outputs": [
    {
     "data": {
      "text/plain": [
       "true"
      ]
     },
     "metadata": {},
     "output_type": "display_data"
    }
   ],
   "source": [
    "ArrayList<String> contain = new ArrayList<>(Arrays.asList(\"bb\", \"cc\", \"dd\", \"ee\", \"gg\"));\n",
    "// containsAll(Collection collection)\n",
    "array.containsAll(contain);"
   ]
  },
  {
   "cell_type": "code",
   "execution_count": null,
   "metadata": {},
   "outputs": [
    {
     "data": {
      "text/plain": [
       "false"
      ]
     },
     "metadata": {},
     "output_type": "display_data"
    }
   ],
   "source": [
    "contain.add(\"jj\");\n",
    "array.containsAll(contain);"
   ]
  },
  {
   "cell_type": "code",
   "execution_count": null,
   "metadata": {},
   "outputs": [
    {
     "name": "stdout",
     "output_type": "stream",
     "text": [
      "[1, 10000, aa, bb, cc, dd, dd, ee, gg, hh]\n"
     ]
    }
   ],
   "source": [
    "// sort(Comparator comp)\n",
    "array.add(\"1\");\n",
    "array.add(\"10000\");\n",
    "array.sort(Comparator.naturalOrder());\n",
    "System.out.println(array);"
   ]
  },
  {
   "cell_type": "code",
   "execution_count": null,
   "metadata": {},
   "outputs": [
    {
     "name": "stdout",
     "output_type": "stream",
     "text": [
      "[z8f, y8de1, hh, ee, dd, dd, bb, aa, 9f8, 9eji, 10000, 1, 08de1]\n"
     ]
    }
   ],
   "source": [
    "array.set(4, \"9eji\");\n",
    "array.set(8, \"z8f\");\n",
    "array.add(\"9f8\");\n",
    "array.add(\"y8de1\");\n",
    "array.add(\"08de1\");\n",
    "array.sort(Comparator.reverseOrder());\n",
    "System.out.println(array);"
   ]
  },
  {
   "attachments": {},
   "cell_type": "markdown",
   "metadata": {},
   "source": [
    "# Unit 8\n",
    "* 2D Array is an array of arrays, and a type of multidimensional array.\n",
    "* To create a 2D array, you write the type of the class, followed by the name, and the values.\n",
    "  * datatype[][] name = new data type[#][#]\n",
    "* Traverse 2D arrays through Nested Loops\n",
    "* You can change elements or access elements in 2D arrays by using the indexes\n",
    "* Index is the position of the element in the array (starts from 0)\n",
    "* Array Length is the number of elements in the array"
   ]
  },
  {
   "cell_type": "code",
   "execution_count": null,
   "metadata": {},
   "outputs": [],
   "source": [
    "import java.util.Scanner;\n",
    "\n",
    "public class Arrays {\n",
    "    int[][] arr = new int[5][5];\n",
    "\n",
    "    public void setArbitraryArray() {\n",
    "        for (int i = 0; i<arr.length; i++) {\n",
    "            for (int j = 0; j<arr[i].length; j++) {\n",
    "                arr[i][j] = (int) (Math.random()*20)/ (i+2);\n",
    "                System.out.print(arr[i][j] + \" \");\n",
    "            }\n",
    "            System.out.println();\n",
    "        }\n",
    "    }\n",
    "\n",
    "    public void reverseArray() {\n",
    "        for (int i = arr.length-1; i >= 0; i--) {\n",
    "            for (int j = arr[i].length-1; j >= 0; j--) {\n",
    "                System.out.print(arr[i][j] + \" \");\n",
    "            }\n",
    "            System.out.println();\n",
    "        }\n",
    "    }\n",
    "\n",
    "    public void findValue() {\n",
    "        Scanner scanner = new Scanner(System.in);\n",
    "        System.out.print(\"Enter Row: \");\n",
    "        int row = scanner.nextInt();\n",
    "        System.out.println(row);\n",
    "        System.out.print(\"Enter Column: \");\n",
    "        int col = scanner.nextInt();\n",
    "        System.out.println(col);\n",
    "        System.out.println(arr[row][col]);\n",
    "    }\n",
    "\n",
    "    public void rowProduct() {\n",
    "        int sum = 0;\n",
    "        for (int i = 0; i < arr.length; i++) {\n",
    "            int prod = 1;\n",
    "            for (int j = 0; j <arr[i].length; j++) {\n",
    "                prod = prod * arr[i][j];\n",
    "            }\n",
    "            sum += prod;\n",
    "        }\n",
    "        System.out.println(\"Sum of row products: \" + sum);\n",
    "    }\n",
    "\n",
    "    public static void main(String[] args) {\n",
    "        Arrays arr = new Arrays();\n",
    "        System.out.println(\"Arbitrary Values:\");\n",
    "        arr.setArbitraryArray();\n",
    "        System.out.println(\"Reversed Array:\");\n",
    "        arr.reverseArray();\n",
    "        System.out.println(\"Value of arr[4][2]:\");\n",
    "        arr.findValue();\n",
    "        arr.rowProduct();\n",
    "    }\n",
    "}\n",
    "Arrays.main(null);"
   ]
  },
  {
   "attachments": {},
   "cell_type": "markdown",
   "metadata": {},
   "source": [
    "# Unit 9\n",
    "* Inheritance is the ability to inherit characteristics from super class to sub classes\n",
    "  * Reduces risk of error and reduces redundancy\n",
    "  * extends key word used to inherit characteristics from a class\n",
    "  * Constructors in a sub class needs to have at least the same definition as the old class\n",
    "  * super() to call supper class's constructor which must have all relevant parameters passed into it\n",
    "  * @Override to  overriding methods of a super class and makes it readable\n",
    "* Tree called inheritance hierarchies where lower subclasses inherit upper super classes in the hierarchy\n",
    "* Polymorphism allows methods to have multiple forms for code reusability with different forms/implementations"
   ]
  },
  {
   "cell_type": "code",
   "execution_count": null,
   "metadata": {},
   "outputs": [],
   "source": [
    "public class WorldCup{\n",
    "    private int wins;\n",
    "    private int losses;\n",
    "    private int draws;\n",
    "\n",
    "    public WorldCup(int wins, int losses, int draws){\n",
    "        this.wins = wins;\n",
    "        this.losses = losses;\n",
    "        this.draws = draws;\n",
    "    }\n",
    "\n",
    "    public String toString(){\n",
    "        return ( \"{ \\\"wins\\\": \"  +this.wins+  \", \" + \"\\\"losses\\\": \"  +this.losses+  \", \" + \"\\\"draws\\\": \"  +this.draws+ \" }\" );\n",
    "    }\n",
    "\n",
    "    public static void main(String[] args) {\n",
    "        Argentina argentina = new Argentina(5, 1, 0);\n",
    "        System.out.println(\"Argentina: \" + argentina);\n",
    "\n",
    "        Croatia croatia = new Croatia(3, 1, 2);\n",
    "        System.out.println(\"Croatia: \" + croatia);\n",
    "\n",
    "        France france = new France(4, 1, 0);\n",
    "        System.out.println(\"France: \" + france);\n",
    "\n",
    "        Morocco morocco = new Morocco(4, 0, 1);\n",
    "        System.out.println(\"Morocco: \" + morocco);\n",
    "\n",
    "        Brazil brazil = new Brazil(3, 2, 0);\n",
    "        System.out.println(\"Brazil: \" + brazil);\n",
    "    }\n",
    "}\n",
    "\n",
    "public class Argentina extends WorldCup{\n",
    "    public Argentina(int wins, int losses, int draws){\n",
    "        super(wins, losses, draws);\n",
    "    }\n",
    "}\n",
    "\n",
    "public class Croatia extends WorldCup{\n",
    "    public Croatia(int wins, int losses, int draws){\n",
    "        super(wins, losses, draws);\n",
    "    }\n",
    "}\n",
    "\n",
    "public class France extends WorldCup{\n",
    "    public France(int wins, int losses, int draws){\n",
    "        super(wins, losses, draws);\n",
    "    }\n",
    "}\n",
    "\n",
    "public class Morocco extends WorldCup{\n",
    "    public Morocco(int wins, int losses, int draws){\n",
    "        super(wins, losses, draws);\n",
    "    }\n",
    "}\n",
    "\n",
    "public class Brazil extends WorldCup{\n",
    "    public Brazil(int wins, int losses, int draws){\n",
    "        super(wins, losses, draws);\n",
    "    }\n",
    "}\n",
    "WorldCup.main(null);"
   ]
  },
  {
   "attachments": {},
   "cell_type": "markdown",
   "metadata": {},
   "source": [
    "# Unit 10\n",
    "* A recursive method is method that calls itself.\n",
    "* It contains at least one base case that halts recursion and once recursive call\n",
    "* Each recursive call has own local variables\n",
    "* Parameter values take progress of recursive process\n",
    "* A recursion can be replaced with an iterative and give the same result\n",
    "* Recursion can traverse String, array, and ArrayList objects\n",
    "* binary search - sorted in order to maximize efficiency\n",
    "* Linear recursion - only calls itself once\n",
    "* Selection sort - finds the minimum value\n",
    "* Merge sort - divides the input array into two halves, calls itself for the two halves, and then merges the two sorted halves"
   ]
  },
  {
   "cell_type": "code",
   "execution_count": 11,
   "metadata": {},
   "outputs": [
    {
     "name": "stdout",
     "output_type": "stream",
     "text": [
      "233\n"
     ]
    }
   ],
   "source": [
    "import java.io.*;\n",
    "class Fibonacci {\n",
    "    static int fib(int n)\n",
    "    {\n",
    "        if (n <= 1)\n",
    "            return n;\n",
    "        return fib(n - 1) + fib(n - 2);\n",
    "    }\n",
    " \n",
    "    public static void main(String args[])\n",
    "    {\n",
    "        int n = 13;\n",
    "        System.out.println(fib(n));\n",
    "    }\n",
    "}\n",
    "Fibonacci.main(null)"
   ]
  }
 ],
 "metadata": {
  "kernelspec": {
   "display_name": "Java",
   "language": "java",
   "name": "java"
  },
  "language_info": {
   "codemirror_mode": "java",
   "file_extension": ".jshell",
   "mimetype": "text/x-java-source",
   "name": "java",
   "pygments_lexer": "java",
   "version": "11.0.16+8-post-Ubuntu-0ubuntu120.04"
  },
  "orig_nbformat": 4,
  "vscode": {
   "interpreter": {
    "hash": "59ce7d6bb8cd4ae6d5cf8ba5759d47519be8aa1ee658f53dd34a0e354aee55b2"
   }
  }
 },
 "nbformat": 4,
 "nbformat_minor": 2
}
