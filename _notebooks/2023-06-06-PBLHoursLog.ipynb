{
 "cells": [
  {
   "attachments": {},
   "cell_type": "markdown",
   "metadata": {},
   "source": [
    "# Trimester 3 Work Log\n",
    "> Log of work\n",
    "\n",
    "- layout: default\n",
    "- badges: false\n",
    "- type: pbl\n",
    "- week: 33"
   ]
  },
  {
   "attachments": {},
   "cell_type": "markdown",
   "metadata": {},
   "source": [
    "# 5/21\n",
    "- researched different types of recommendation systems - 1 hour"
   ]
  },
  {
   "attachments": {},
   "cell_type": "markdown",
   "metadata": {},
   "source": [
    "# 5/22\n",
    "- played around code from online that recommends different stuff - 1 hour"
   ]
  },
  {
   "attachments": {},
   "cell_type": "markdown",
   "metadata": {},
   "source": [
    "# 5/24\n",
    "- tried to use matrix factorization to solve the problem of too little likes - 1 hour"
   ]
  },
  {
   "attachments": {},
   "cell_type": "markdown",
   "metadata": {},
   "source": [
    "# 5/25\n",
    "- tried to use cosine similarity to get similar songs based on songs - 1 hour"
   ]
  },
  {
   "attachments": {},
   "cell_type": "markdown",
   "metadata": {},
   "source": [
    "# 5/26\n",
    "- read a lot of articles on content based filtering and how to use user and song features for recommendations - 2 hours"
   ]
  },
  {
   "attachments": {},
   "cell_type": "markdown",
   "metadata": {},
   "source": [
    "# 5/28\n",
    "- read multiple articles with examples that uses cosine similarity - 1 hour\n",
    "- battling against the memory error when trying to use cosine similarity in python- 1 hour\n",
    "- finished up cosine similarity as a recommendation system that recommends n songs from an input of songs - 3 hours"
   ]
  },
  {
   "attachments": {},
   "cell_type": "markdown",
   "metadata": {},
   "source": [
    "# 5/31\n",
    "- looked for datasets that could be used to connect user features to songs since we don't have enough users and data ourselves - 15 minutes\n",
    "- downloaded and analyzed the dataset that I found - 15 minutes\n",
    "- data processing and training an ANN to predict user ratings for certain genres - 5 hours\n",
    "- connected this recommendation system that uses user features to the one that uses song features - 2 hour"
   ]
  },
  {
   "attachments": {},
   "cell_type": "markdown",
   "metadata": {},
   "source": [
    "# 6/6\n",
    "- blog on my content based recommendation system - 2 hour"
   ]
  },
  {
   "attachments": {},
   "cell_type": "markdown",
   "metadata": {},
   "source": [
    "# Total Hours: 20 hours 30 minutes"
   ]
  }
 ],
 "metadata": {
  "kernelspec": {
   "display_name": "Python 3 (ipykernel)",
   "language": "python",
   "name": "python3"
  },
  "language_info": {
   "codemirror_mode": {
    "name": "ipython",
    "version": 3
   },
   "file_extension": ".py",
   "mimetype": "text/x-python",
   "name": "python",
   "nbconvert_exporter": "python",
   "pygments_lexer": "ipython3",
   "version": "3.9.12"
  }
 },
 "nbformat": 4,
 "nbformat_minor": 2
}
