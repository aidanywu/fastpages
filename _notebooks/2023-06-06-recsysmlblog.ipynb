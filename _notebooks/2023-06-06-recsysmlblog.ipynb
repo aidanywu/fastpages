{
 "cells": [
  {
   "attachments": {},
   "cell_type": "markdown",
   "metadata": {},
   "source": [
    "# ML Blog\n",
    "> Recommendation of how the recommendation systems work\n",
    "\n",
    "- layout: default\n",
    "- badges: false\n",
    "- type: pbl\n",
    "- week: 33"
   ]
  },
  {
   "attachments": {},
   "cell_type": "markdown",
   "metadata": {},
   "source": [
    "# Ways to recommend songs based on song features\n",
    "To calculate similar songs based on features of a given song, we used the data available [here](https://www.kaggle.com/datasets/vatsalmavani/spotify-dataset).\n",
    "Note: This dataset appears to only have data for songs up to 2021 or 2022.\n",
    "Some options (that I found) that calculates distances between songs are:\n",
    "  - Cosine similarity\n",
    "  - Manhattan distance\n",
    "  - Euclidean distance\n",
    "  - Minkowski distance"
   ]
  },
  {
   "attachments": {},
   "cell_type": "markdown",
   "metadata": {},
   "source": [
    "I decided to use cosine similarity because cosine similarity calculates the angle, or how vectors are pointed relatively to each other. Therefore, even though songs can be very different in magnitudes of features, as long as the features together points to a similar direction, these songs can still be very similar and recommended. Cosine similarity also ignores 0 to 0 matches and seems to be very popular in recommendation systems. Though this might only be true for text analysis since magnitudes are usually very different in that. Regardless, I used cosine similarity even though a distance measurement that uses magnitude might actually be better here since the values are already on a scale of 0-1"
   ]
  },
  {
   "attachments": {},
   "cell_type": "markdown",
   "metadata": {},
   "source": [
    "I decided to use the features acousticness, danceability, duration_ms, energy, instrumentalness, key, liveness, loudness, mode, speechiness, tempo, and valence to calculate the distances between songs"
   ]
  },
  {
   "cell_type": "code",
   "execution_count": null,
   "metadata": {},
   "outputs": [],
   "source": [
    "feature_cols=['acousticness', 'danceability', 'duration_ms', 'energy',\n",
    "              'instrumentalness', 'key', 'liveness', 'loudness', 'mode',\n",
    "              'speechiness', 'tempo', 'valence']"
   ]
  },
  {
   "attachments": {},
   "cell_type": "markdown",
   "metadata": {},
   "source": [
    "Cosine similarity here calculates distances between each song's vector of features and creates a matrix of song to song distances"
   ]
  },
  {
   "attachments": {},
   "cell_type": "markdown",
   "metadata": {},
   "source": [
    "To begin, we should standardize all the values within each feature so the data are represented better relatively to other data and thus the distances can be calculated more accurately"
   ]
  },
  {
   "cell_type": "code",
   "execution_count": null,
   "metadata": {},
   "outputs": [],
   "source": [
    "from sklearn.preprocessing import MinMaxScaler\n",
    "scaler = MinMaxScaler()\n",
    "normalized_df =scaler.fit_transform(df[feature_cols])"
   ]
  },
  {
   "attachments": {},
   "cell_type": "markdown",
   "metadata": {},
   "source": [
    "We should clear all duplicates for obvious reasons"
   ]
  },
  {
   "cell_type": "code",
   "execution_count": null,
   "metadata": {},
   "outputs": [],
   "source": [
    "indices = pd.Series(df.index, index=df['name']).drop_duplicates()"
   ]
  },
  {
   "attachments": {},
   "cell_type": "markdown",
   "metadata": {},
   "source": [
    "Now we create a function that returns the top *n* songs given song *name*"
   ]
  },
  {
   "cell_type": "code",
   "execution_count": null,
   "metadata": {},
   "outputs": [],
   "source": [
    "# Create cosine similarity matrix based on given matrix\n",
    "cosine = cosine_similarity(normalized_df)\n",
    "\n",
    "\"\"\"\n",
    "Purpose: Function for song recommendations \n",
    "Inputs: song title, number of recommendations to give, and type of similarity model\n",
    "Output: list of recommended songs\n",
    "\"\"\"\n",
    "def generate_recommendation(name, n, model_type=cosine):\n",
    "    # Get song indices\n",
    "    index=indices[name]\n",
    "    # Get list of songs for given songs\n",
    "    score=list(enumerate(model_type[index]))\n",
    "    # Sort the most similar songs\n",
    "    similarity_score = sorted(score,key = lambda x:x[1],reverse = True)\n",
    "    # Select the top-n recommend songs\n",
    "    similarity_score = similarity_score[1:n+1]\n",
    "    top_songs_index = [i[0] for i in similarity_score]\n",
    "    # Top 10 recommended songs\n",
    "    top_songs=df['name'].iloc[top_songs_index]\n",
    "    return top_songs.tolist()"
   ]
  },
  {
   "attachments": {},
   "cell_type": "markdown",
   "metadata": {},
   "source": [
    "*cosine = cosine_similarity(normalized_df)* creates the similarity matrix and the function gets the list of cosine similarity distances in relation to other songs. We then sort the list in relation to the similarity score (x[1]) then recommend 1 to n+1 which is the top n songs since 0 is just the same song (best similarity score). The n songs are then returned"
   ]
  },
  {
   "attachments": {},
   "cell_type": "markdown",
   "metadata": {},
   "source": [
    "Note: Due to a memory problem when using cosine similarity on sparse matrixes, I limited the number of songs that we will calculate the similarity matrix with to the top 30,000 most popular songs"
   ]
  },
  {
   "attachments": {},
   "cell_type": "markdown",
   "metadata": {},
   "source": [
    "Next we just implement this function in our api and the song feature part of the content based recommendation system is good to go"
   ]
  },
  {
   "attachments": {},
   "cell_type": "markdown",
   "metadata": {},
   "source": [
    "# Recommending songs based on user features\n",
    "A difficulty in doing this is find how user features affect song preferences as we don't have any/enough data on our website. Therefore, we had to, again, get the necessary data from [somewhere else](https://www.kaggle.com/datasets/miroslavsabo/young-people-survey?select=responses.csv). I decided to try and predict what genres users would like based on their demographics.\n",
    "I chose to use a simple ANN to try and predict how much they would enjoy each genre using their age, gender, location, education, height, weight, and number of siblings."
   ]
  },
  {
   "attachments": {},
   "cell_type": "markdown",
   "metadata": {},
   "source": [
    "The link to the jupyter notebook that trained and saved the model is [https://github.com/Lychee80/fourWsBackend/blob/main/genrepred.ipynb](https://github.com/Lychee80/fourWsBackend/blob/main/genrepred.ipynb) or [https://aidanywu.github.io/fastpages/2023/06/06/genrepred.html](https://aidanywu.github.io/fastpages/2023/06/06/genrepred.html)"
   ]
  },
  {
   "attachments": {},
   "cell_type": "markdown",
   "metadata": {},
   "source": [
    "However, the accuracy of this model is not very good so there are definitely better ways to model this or we could've used the data in a different way. For examples, it might've been better to use a neural network to classify and give probability of user liking the genre with a rating of 4 or 5 classified as like and 1-3 classified as not like. Height, weight, education, and number of siblings also likely does not affect genre preference significantly so we could've eliminated that as an predictor."
   ]
  },
  {
   "attachments": {},
   "cell_type": "markdown",
   "metadata": {},
   "source": [
    "After saving the model, we just had to access the model in the api and use it to make decisions about song recommendations in regards to the prediction of what genres the user would like."
   ]
  }
 ],
 "metadata": {
  "kernelspec": {
   "display_name": "Python 3 (ipykernel)",
   "language": "python",
   "name": "python3"
  },
  "language_info": {
   "codemirror_mode": {
    "name": "ipython",
    "version": 3
   },
   "file_extension": ".py",
   "mimetype": "text/x-python",
   "name": "python",
   "nbconvert_exporter": "python",
   "pygments_lexer": "ipython3",
   "version": "3.11.3"
  }
 },
 "nbformat": 4,
 "nbformat_minor": 2
}
