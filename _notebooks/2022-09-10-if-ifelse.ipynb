{
 "cells": [
  {
   "cell_type": "markdown",
   "metadata": {},
   "source": [
    "# If-ifelse-else Statements\n",
    "> A blog on if, if else, and else statements\n",
    "\n",
    "- toc: false \n",
    "- badges: false\n",
    "- comments: false\n",
    "- categories: [jupyter]"
   ]
  },
  {
   "cell_type": "markdown",
   "metadata": {},
   "source": [
    "# If Statements\n",
    "If the conditional is true, run the code block"
   ]
  },
  {
   "cell_type": "code",
   "execution_count": 13,
   "metadata": {},
   "outputs": [
    {
     "name": "stdout",
     "output_type": "stream",
     "text": [
      "1+1=2\n"
     ]
    }
   ],
   "source": [
    "// 1+1 does equal 2, therefore the code block is ran and the system prints out \"1+1=2\"\n",
    "if (1+1 == 2) {\n",
    "    System.out.println(\"1+1=2\");\n",
    "}\n",
    "// 1+1 does not equal 3, therefore the code block will not run and the system does not print out \"1+1=3\"\n",
    "if (1+1 == 3) {\n",
    "    System.out.println(\"1+1=3\");\n",
    "}"
   ]
  },
  {
   "cell_type": "markdown",
   "metadata": {},
   "source": [
    "# If-else Statements\n",
    "If the conditional is true, run the code block inside if\n",
    "If the conditional is false, run the code block inside else"
   ]
  },
  {
   "cell_type": "code",
   "execution_count": 14,
   "metadata": {},
   "outputs": [
    {
     "name": "stdout",
     "output_type": "stream",
     "text": [
      "1+1=2\n",
      "1+1!=3\n"
     ]
    }
   ],
   "source": [
    "// 1+1 does equal 2, therefore the code block inside if is ran and the system prints out \"1+1=2\"\n",
    "if (1+1 == 2) {\n",
    "    System.out.println(\"1+1=2\");\n",
    "} else {\n",
    "    System.out.println(\"1+1!=2\");\n",
    "}\n",
    "// 1+1 does not equal 3, therefore the code block inside else is ran and the system prints out \"1+1!=2\"\n",
    "if (1+1 == 3) {\n",
    "    System.out.println(\"1+1=3\");\n",
    "} else {\n",
    "    System.out.println(\"1+1!=3\");\n",
    "}"
   ]
  },
  {
   "cell_type": "markdown",
   "metadata": {},
   "source": [
    "# If-elseif-else Statements\n",
    "Goes through each if and elseif conditionals to see if it is true, if a conditional is true, the code block inside it will run\n",
    "If none of the conditionals are true, code block inside else will run"
   ]
  },
  {
   "cell_type": "code",
   "execution_count": 15,
   "metadata": {},
   "outputs": [
    {
     "name": "stdout",
     "output_type": "stream",
     "text": [
      "1+1=2\n"
     ]
    }
   ],
   "source": [
    "if (1+1 == 0) {\n",
    "    // Because 1+1 does not equal 0, this does not run\n",
    "    System.out.println(\"1+1=0\");\n",
    "} else if (1+1 == 1) {\n",
    "    // Because 1+1 does not equal 1, this does not run\n",
    "    System.out.println(\"1+1=1\");\n",
    "} else if (1+1 == 2) {\n",
    "    // Because 1+1 does equal 2, this does run\n",
    "    System.out.println(\"1+1=2\");\n",
    "} else if (1+1 == 3) {\n",
    "    // skips this conditional because previous conditional already evaluated to be true\n",
    "    System.out.println(\"1+1=3\");\n",
    "} else {\n",
    "    // skips this because 1+1 == 2 conditional already evaluated to be true\n",
    "    System.out.println(\"1+1 does not equal 0, 1, 2, or 3\");\n",
    "}"
   ]
  },
  {
   "cell_type": "markdown",
   "metadata": {},
   "source": [
    "# Letter Grade Calculator with If-elseif-else statements"
   ]
  },
  {
   "cell_type": "code",
   "execution_count": 16,
   "metadata": {},
   "outputs": [
    {
     "name": "stdout",
     "output_type": "stream",
     "text": [
      "A"
     ]
    }
   ],
   "source": [
    "double Grade = 93.9;\n",
    "if (Grade < 60) {\n",
    "    // If Grade is less than 60\n",
    "    System.out.print(\"F\");\n",
    "} else if (Grade < 70) {\n",
    "    //If Grade is less than 70 (60 or greater because previous conditional cleared to be false)\n",
    "    System.out.print(\"D\");\n",
    "} else if (Grade < 80) {\n",
    "    //If Grade is less than 80 (70 or greater because previous conditionals cleared to be false)\n",
    "    System.out.print(\"C\");\n",
    "} else if (Grade < 90) {\n",
    "    //If Grade is less than 90 (80 or greater because previous conditionals cleared to be false)\n",
    "    System.out.print(\"B\");\n",
    "} else {\n",
    "    //If Grade is 90 or greater (because previous conditionals cleared to be false)\n",
    "    System.out.print(\"A\");\n",
    "}"
   ]
  },
  {
   "cell_type": "markdown",
   "metadata": {},
   "source": [
    "# Letter Grade Calculator with switch-case statements"
   ]
  },
  {
   "cell_type": "code",
   "execution_count": 17,
   "metadata": {},
   "outputs": [
    {
     "name": "stdout",
     "output_type": "stream",
     "text": [
      "you either have negative grade or an A\n"
     ]
    }
   ],
   "source": [
    "import java.lang.Math;\n",
    "double Grade = 93.9;\n",
    "int floor = (int) Math.floor(Grade / 10) * 10;\n",
    "switch(floor) {\n",
    "    case 80: // If Grade is 80 up to but not including 90\n",
    "        System.out.println(\"B\");\n",
    "        break;\n",
    "    case 70: // If Grade is 70 up to but not including 80\n",
    "        System.out.println(\"C\");\n",
    "        break;\n",
    "    case 60: // If Grade is 60 up to but not including 70\n",
    "        System.out.println(\"D\");\n",
    "        break;\n",
    "    case 50: // If Grade is 50 up to but not including 60\n",
    "        System.out.println(\"F\");\n",
    "        break;\n",
    "    case 40: // If Grade is 40 up to but not including 50\n",
    "        System.out.println(\"F\");\n",
    "        break;\n",
    "    case 30: // If Grade is 30 up to but not including 40\n",
    "        System.out.println(\"F\");\n",
    "        break;\n",
    "    case 20: // If Grade is 20 up to but not including 30\n",
    "        System.out.println(\"F\");\n",
    "        break;\n",
    "    case 10: // If Grade is 10 up to but not including 20\n",
    "        System.out.println(\"F\");\n",
    "        break;\n",
    "    case 0: // If Grade is 0 up to but not including 10\n",
    "        System.out.println(\"F\");\n",
    "        break;\n",
    "    default: // anything else so f Grade is 90 or more or less than 0\n",
    "        System.out.println(\"you either have negative grade or an A\");\n",
    "        break;\n",
    "}"
   ]
  },
  {
   "cell_type": "markdown",
   "metadata": {},
   "source": [
    "# De Morgan's law\n",
    "From Wikipedia:\n",
    "* The negation of a disjunction is the conjunction of the negations\n",
    "* The negation of a conjunction is the disjunction of the negations\n",
    "or\n",
    "* The complement of the union of two sets is the same as the intersection of their complements\n",
    "* The complement of the intersection of two sets is the same as the union of their complements\n",
    "\n",
    "NOT(A or B) is the same as NOT(A) and NOT(B)\n",
    "NOT(A and B) is the same as NOT(A) or NOT(B)\n",
    "\n",
    "![De Morgan's Law](https://wikimedia.org/api/rest_v1/media/math/render/svg/b55ab78fcd4c3b617df4e2195d487dda13c09e7d)"
   ]
  },
  {
   "cell_type": "code",
   "execution_count": 18,
   "metadata": {},
   "outputs": [
    {
     "name": "stdout",
     "output_type": "stream",
     "text": [
      "A is true\n",
      "B is false\n",
      "NOT(A or B): false\n",
      "NOT(A) and NOT(B): false\n",
      "NOT(A and B): true\n",
      "NOT(A) or NOT(B): true\n",
      "NOT(A or B) is the same as NOT(A) and NOT(B)\n",
      "NOT(A and B) is the same as NOT(A) or NOT(B)"
     ]
    }
   ],
   "source": [
    "boolean a = true;\n",
    "boolean b = false;\n",
    "System.out.println(\"A is \" + a);\n",
    "System.out.println(\"B is \" + b);\n",
    "System.out.println(\"NOT(A or B): \" + Boolean.toString(!(a||b)));\n",
    "System.out.println(\"NOT(A) and NOT(B): \" + Boolean.toString((!a)&&(!b)));\n",
    "System.out.println(\"NOT(A and B): \" + Boolean.toString(!(a&&b)));\n",
    "System.out.println(\"NOT(A) or NOT(B): \" + Boolean.toString((!a)||(!b)));\n",
    "if ((!(a||b)) == ((!a)&&(!b))) {\n",
    "    System.out.print(\"NOT(A or B) is the same as NOT(A) and NOT(B)\\n\");\n",
    "}\n",
    "if ((!(a&&b)) == ((!a)||(!b))) {\n",
    "    System.out.print(\"NOT(A and B) is the same as NOT(A) or NOT(B)\");\n",
    "}"
   ]
  }
 ],
 "metadata": {
  "kernelspec": {
   "display_name": "Java",
   "language": "java",
   "name": "java"
  },
  "language_info": {
   "codemirror_mode": "java",
   "file_extension": ".jshell",
   "mimetype": "text/x-java-source",
   "name": "java",
   "pygments_lexer": "java",
   "version": "11.0.16+8-post-Ubuntu-0ubuntu120.04"
  },
  "orig_nbformat": 4,
  "vscode": {
   "interpreter": {
    "hash": "916dbcbb3f70747c44a77c7bcd40155683ae19c65e1c03b4aa3499c5328201f1"
   }
  }
 },
 "nbformat": 4,
 "nbformat_minor": 2
}
