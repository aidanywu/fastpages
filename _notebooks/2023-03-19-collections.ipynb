{
 "cells": [
  {
   "attachments": {},
   "cell_type": "markdown",
   "metadata": {},
   "source": [
    "# Week 26 Collections\n",
    "\n",
    "- toc: true \n",
    "- badges: false\n",
    "- comments: false\n",
    "- categories: [jupyter]"
   ]
  },
  {
   "attachments": {},
   "cell_type": "markdown",
   "metadata": {},
   "source": [
    "## Challenge #3, Shuffle the Queue.\n",
    "Iterate through the Queue and change data with another random position in the queue.## 2017 FRQ Q1 (Methods and Control Structures question type)"
   ]
  },
  {
   "cell_type": "code",
   "execution_count": 40,
   "metadata": {},
   "outputs": [
    {
     "name": "stdout",
     "output_type": "stream",
     "text": [
      "Ordered Queue\n",
      "[1, 2, 3, 4, 5, 6, 7, 8, 9]\n",
      "Shuffled Queue\n",
      "[4, 6, 9, 5, 1, 2, 7, 3, 8]\n"
     ]
    }
   ],
   "source": [
    "import java.lang.Math;\n",
    "\n",
    "Queue<Object> queue = new LinkedList<>();\n",
    "queue.add(1);\n",
    "queue.add(2);\n",
    "queue.add(3);\n",
    "queue.add(4);\n",
    "queue.add(5);\n",
    "queue.add(6);\n",
    "queue.add(7);\n",
    "queue.add(8);\n",
    "queue.add(9);\n",
    "\n",
    "System.out.println(\"Ordered Queue\");\n",
    "System.out.println(queue);\n",
    "\n",
    "\n",
    "ArrayList arr = new ArrayList(queue);\n",
    "Queue<Object> queue2 = new LinkedList<>();\n",
    "for (int i = arr.size(); i > 0; i--) {\n",
    "    int rand = (int) (Math.random() * i) + 1;\n",
    "    queue2.add(arr.get(rand-1));\n",
    "    arr.remove(rand-1);\n",
    "}\n",
    "\n",
    "System.out.println(\"Shuffled Queue\");\n",
    "System.out.println(queue2);"
   ]
  },
  {
   "attachments": {},
   "cell_type": "markdown",
   "metadata": {},
   "source": [
    "## Challenge #4, Build a Stack and use it to reverse the order of a Queue.\n",
    "The Queue is a LIFO Data Structure, the Stack is a FIFO data structure, so code is similar but most everything is reversed."
   ]
  },
  {
   "cell_type": "code",
   "execution_count": 41,
   "metadata": {},
   "outputs": [
    {
     "name": "stdout",
     "output_type": "stream",
     "text": [
      "Queue\n",
      "1 2 3 4 5 6 7 8 9 \n",
      "Stack\n",
      "9 8 7 6 5 4 3 2 1 "
     ]
    }
   ],
   "source": [
    "import java.lang.Math;\n",
    "import java.util.*;\n",
    "\n",
    "Queue<Object> queue = new LinkedList<>();\n",
    "queue.add(1);\n",
    "queue.add(2);\n",
    "queue.add(3);\n",
    "queue.add(4);\n",
    "queue.add(5);\n",
    "queue.add(6);\n",
    "queue.add(7);\n",
    "queue.add(8);\n",
    "queue.add(9);\n",
    "\n",
    "ArrayList arr = new ArrayList(queue);\n",
    "\n",
    "System.out.println(\"Queue\");\n",
    "while (queue.size() > 0) {\n",
    "    System.out.print(queue.remove());\n",
    "    System.out.print(' ');\n",
    "}\n",
    "System.out.println();\n",
    "\n",
    "Stack<Object> stack = new Stack<>();\n",
    "for (Object num: arr) {\n",
    "    stack.push(num);\n",
    "}\n",
    "\n",
    "System.out.println(\"Stack\");\n",
    "while (stack.size() > 0) {\n",
    "    System.out.print(stack.pop());\n",
    "    System.out.print(' ');\n",
    "}"
   ]
  }
 ],
 "metadata": {
  "kernelspec": {
   "display_name": "Java",
   "language": "java",
   "name": "java"
  },
  "language_info": {
   "codemirror_mode": {
    "name": "ipython",
    "version": 3
   },
   "file_extension": ".py",
   "mimetype": "text/x-python",
   "name": "java",
   "nbconvert_exporter": "python",
   "pygments_lexer": "ipython3",
   "version": "3.10.2"
  },
  "orig_nbformat": 4,
  "vscode": {
   "interpreter": {
    "hash": "59ce7d6bb8cd4ae6d5cf8ba5759d47519be8aa1ee658f53dd34a0e354aee55b2"
   }
  }
 },
 "nbformat": 4,
 "nbformat_minor": 2
}
