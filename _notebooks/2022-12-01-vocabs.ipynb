{
 "cells": [
  {
   "cell_type": "markdown",
   "metadata": {},
   "source": [
    "# Vocabs\n",
    "\n",
    "- toc: true \n",
    "- badges: false\n",
    "- comments: false\n",
    "- categories: [jupyter]"
   ]
  },
  {
   "cell_type": "markdown",
   "metadata": {},
   "source": [
    "# Unit 1\n",
    "## Casting (Division)\n",
    "* Division with double will truncate unless casted"
   ]
  },
  {
   "cell_type": "code",
   "execution_count": 3,
   "metadata": {
    "vscode": {
     "languageId": "java"
    }
   },
   "outputs": [
    {
     "name": "stdout",
     "output_type": "stream",
     "text": [
      "0\n",
      "0.5\n"
     ]
    }
   ],
   "source": [
    "System.out.println(1/2);\n",
    "System.out.println((double)1/(double)2);"
   ]
  },
  {
   "cell_type": "markdown",
   "metadata": {},
   "source": [
    "## Casting (Truncating and Rounding)\n",
    "* casting to an integer from a double will truncate"
   ]
  },
  {
   "cell_type": "code",
   "execution_count": 4,
   "metadata": {
    "vscode": {
     "languageId": "java"
    }
   },
   "outputs": [
    {
     "name": "stdout",
     "output_type": "stream",
     "text": [
      "1.5\n",
      "1\n"
     ]
    }
   ],
   "source": [
    "System.out.println(1.5);\n",
    "System.out.println((int)1.5);"
   ]
  },
  {
   "cell_type": "markdown",
   "metadata": {},
   "source": [
    "## Wrapper Classes, why wrap int, double\n",
    "* To use primitive data types as objects\n",
    "* Useful because Collection objects can only store objects"
   ]
  },
  {
   "cell_type": "code",
   "execution_count": 12,
   "metadata": {
    "vscode": {
     "languageId": "java"
    }
   },
   "outputs": [
    {
     "name": "stdout",
     "output_type": "stream",
     "text": [
      "8\n"
     ]
    }
   ],
   "source": [
    "Integer a = new Integer(8);\n",
    "System.out.println(a);"
   ]
  },
  {
   "cell_type": "code",
   "execution_count": 8,
   "metadata": {
    "vscode": {
     "languageId": "java"
    }
   },
   "outputs": [
    {
     "ename": "CompilationException",
     "evalue": "",
     "output_type": "error",
     "traceback": [
      "\u001b[1m\u001b[30m|   \u001b[1m\u001b[30mArrayList<\u001b[0m\u001b[1m\u001b[30m\u001b[41mint\u001b[0m\u001b[1m\u001b[30m> myNumbers = new ArrayList<int>();\u001b[0m",
      "\u001b[1m\u001b[31munexpected type\u001b[0m",
      "\u001b[1m\u001b[31m  required: reference\u001b[0m",
      "\u001b[1m\u001b[31m  found:    int\u001b[0m",
      "",
      "\u001b[1m\u001b[30m|   \u001b[1m\u001b[30mArrayList<int> myNumbers = new ArrayList<\u001b[0m\u001b[1m\u001b[30m\u001b[41mint\u001b[0m\u001b[1m\u001b[30m>();\u001b[0m",
      "\u001b[1m\u001b[31munexpected type\u001b[0m",
      "\u001b[1m\u001b[31m  required: reference\u001b[0m",
      "\u001b[1m\u001b[31m  found:    int\u001b[0m",
      ""
     ]
    }
   ],
   "source": [
    "ArrayList<int> nums = new ArrayList<int>();"
   ]
  },
  {
   "cell_type": "code",
   "execution_count": 10,
   "metadata": {
    "vscode": {
     "languageId": "java"
    }
   },
   "outputs": [
    {
     "name": "stdout",
     "output_type": "stream",
     "text": [
      "[8, 9]\n"
     ]
    }
   ],
   "source": [
    "ArrayList<Integer> nums = new ArrayList<Integer>(); // with wrapper class\n",
    "nums.add(8);\n",
    "nums.add(new Integer(9));\n",
    "System.out.println(nums);"
   ]
  },
  {
   "cell_type": "markdown",
   "metadata": {},
   "source": [
    "# Unit 2\n",
    "## Concatenation\n",
    "* combine string using +\n",
    "* String + object will make object use the .toString() method\n",
    "* for primitives it is just converted"
   ]
  },
  {
   "cell_type": "code",
   "execution_count": 18,
   "metadata": {
    "vscode": {
     "languageId": "java"
    }
   },
   "outputs": [
    {
     "name": "stdout",
     "output_type": "stream",
     "text": [
      "string2string3\n",
      "string20\n",
      "string2string1\n"
     ]
    }
   ],
   "source": [
    "public class Classs {\n",
    "    public String toString() {\n",
    "        return \"string1\";\n",
    "    }\n",
    "}\n",
    "\n",
    "String a = \"string2\";\n",
    "String b = \"string3\";\n",
    "int c = 0;\n",
    "Classs classs = new Classs();\n",
    "\n",
    "System.out.println(a+b);\n",
    "System.out.println(a+c);\n",
    "System.out.println(a+classs);"
   ]
  },
  {
   "cell_type": "markdown",
   "metadata": {},
   "source": [
    "## Math Class\n",
    "* Used for non built in math functions like sqrt\n",
    "* Can be used to generate random numbers"
   ]
  },
  {
   "cell_type": "code",
   "execution_count": 20,
   "metadata": {
    "vscode": {
     "languageId": "java"
    }
   },
   "outputs": [
    {
     "name": "stdout",
     "output_type": "stream",
     "text": [
      "2\n",
      "1.4142135623730951\n",
      "3\n",
      "1.7320508075688772\n",
      "8\n",
      "2.8284271247461903\n"
     ]
    }
   ],
   "source": [
    "for (int i = 0; i < 3; i++) {\n",
    "    int num = (int)(Math.random()*10 + 1);\n",
    "    System.out.println(num);\n",
    "    System.out.println(Math.sqrt(num));\n",
    "}"
   ]
  },
  {
   "cell_type": "markdown",
   "metadata": {},
   "source": [
    "## Comparing Numbers\n",
    "* Use =="
   ]
  },
  {
   "cell_type": "code",
   "execution_count": 22,
   "metadata": {
    "vscode": {
     "languageId": "java"
    }
   },
   "outputs": [
    {
     "name": "stdout",
     "output_type": "stream",
     "text": [
      "true\n",
      "false\n"
     ]
    }
   ],
   "source": [
    "System.out.println(1==1);\n",
    "System.out.println(1==0);"
   ]
  },
  {
   "cell_type": "markdown",
   "metadata": {},
   "source": [
    "## Comparing Strings/Objects\n",
    "* Use .equals() String objects have"
   ]
  },
  {
   "cell_type": "code",
   "execution_count": 26,
   "metadata": {
    "vscode": {
     "languageId": "java"
    }
   },
   "outputs": [
    {
     "name": "stdout",
     "output_type": "stream",
     "text": [
      "true\n",
      "false\n",
      "true\n",
      "false\n"
     ]
    }
   ],
   "source": [
    "String str1 = new String(\"string\");\n",
    "String str2 = new String(\"string1\");\n",
    "System.out.println(\"string\".equals(\"string\"));\n",
    "System.out.println(\"string\".equals(\"sTring\"));\n",
    "System.out.println(str1.equals(str1));\n",
    "System.out.println(str1.equals(str2));"
   ]
  },
  {
   "cell_type": "markdown",
   "metadata": {},
   "source": [
    "# Unit 3\n",
    "## Compound Boolean Expression\n",
    "* A lot of boolean operators and parentheses\n",
    "* && is and, || is or, ! is not, etc"
   ]
  },
  {
   "cell_type": "code",
   "execution_count": 27,
   "metadata": {
    "vscode": {
     "languageId": "java"
    }
   },
   "outputs": [
    {
     "name": "stdout",
     "output_type": "stream",
     "text": [
      "true\n"
     ]
    }
   ],
   "source": [
    "boolean t = true;\n",
    "boolean f = false;\n",
    "System.out.println((t||f)||(f&&!t)&&(f||!(!f&&t)));"
   ]
  },
  {
   "cell_type": "markdown",
   "metadata": {},
   "source": [
    "## Truth Tables\n",
    "* To see what operation boolean operators do\n",
    "\n",
    "![truth tables](https://www.realdigital.org/img/228d4788d26e286b5706f6d644ddee8b.svg)"
   ]
  },
  {
   "cell_type": "markdown",
   "metadata": {},
   "source": [
    "## De Morgan's law\n",
    "From Wikipedia:\n",
    "* The negation of a disjunction is the conjunction of the negations\n",
    "* The negation of a conjunction is the disjunction of the negations\n",
    "or\n",
    "* The complement of the union of two sets is the same as the intersection of their complements\n",
    "* The complement of the intersection of two sets is the same as the union of their complements\n",
    "\n",
    "NOT(A or B) is the same as NOT(A) and NOT(B)\n",
    "NOT(A and B) is the same as NOT(A) or NOT(B)\n",
    "\n",
    "![De Morgan's Law](https://wikimedia.org/api/rest_v1/media/math/render/svg/b55ab78fcd4c3b617df4e2195d487dda13c09e7d)"
   ]
  },
  {
   "cell_type": "code",
   "execution_count": 28,
   "metadata": {
    "vscode": {
     "languageId": "java"
    }
   },
   "outputs": [
    {
     "name": "stdout",
     "output_type": "stream",
     "text": [
      "A is true\n",
      "B is false\n",
      "NOT(A or B): false\n",
      "NOT(A) and NOT(B): false\n",
      "NOT(A and B): true\n",
      "NOT(A) or NOT(B): true\n",
      "NOT(A or B) is the same as NOT(A) and NOT(B)\n",
      "NOT(A and B) is the same as NOT(A) or NOT(B)"
     ]
    }
   ],
   "source": [
    "boolean a = true;\n",
    "boolean b = false;\n",
    "System.out.println(\"A is \" + a);\n",
    "System.out.println(\"B is \" + b);\n",
    "System.out.println(\"NOT(A or B): \" + Boolean.toString(!(a||b)));\n",
    "System.out.println(\"NOT(A) and NOT(B): \" + Boolean.toString((!a)&&(!b)));\n",
    "System.out.println(\"NOT(A and B): \" + Boolean.toString(!(a&&b)));\n",
    "System.out.println(\"NOT(A) or NOT(B): \" + Boolean.toString((!a)||(!b)));\n",
    "if ((!(a||b)) == ((!a)&&(!b))) {\n",
    "    System.out.print(\"NOT(A or B) is the same as NOT(A) and NOT(B)\\n\");\n",
    "}\n",
    "if ((!(a&&b)) == ((!a)||(!b))) {\n",
    "    System.out.print(\"NOT(A and B) is the same as NOT(A) or NOT(B)\");\n",
    "}"
   ]
  },
  {
   "cell_type": "markdown",
   "metadata": {},
   "source": [
    "# Unit 4\n",
    "## For loop/Enhanced for loop\n",
    "* For loops iterats through an index\n",
    "* Enhanced for loops iterate through an iterable"
   ]
  },
  {
   "cell_type": "code",
   "execution_count": 31,
   "metadata": {
    "vscode": {
     "languageId": "java"
    }
   },
   "outputs": [
    {
     "name": "stdout",
     "output_type": "stream",
     "text": [
      "01234\n",
      "12345"
     ]
    }
   ],
   "source": [
    "for(int i = 0; i<5; i++) {\n",
    "    System.out.print(i);\n",
    "}\n",
    "System.out.println();\n",
    "int[] arr = {1,2,3,4,5};\n",
    "for (int i: arr) {\n",
    "    System.out.print(i);\n",
    "}"
   ]
  },
  {
   "cell_type": "markdown",
   "metadata": {},
   "source": [
    "## While loop versus Do While loop\n",
    "* While loop runs when condition is true after being checked before\n",
    "* Do while loop runs when condition is true after being checked after"
   ]
  },
  {
   "cell_type": "code",
   "execution_count": 35,
   "metadata": {
    "vscode": {
     "languageId": "java"
    }
   },
   "outputs": [
    {
     "name": "stdout",
     "output_type": "stream",
     "text": [
      "\n",
      "0"
     ]
    }
   ],
   "source": [
    "int i = 0;\n",
    "while (i<0) {\n",
    "    System.out.print(i);\n",
    "    i++;\n",
    "}\n",
    "System.out.println();\n",
    "int i = 0;\n",
    "do {\n",
    "    System.out.print(i);\n",
    "    i++;\n",
    "} while (i<0)"
   ]
  },
  {
   "cell_type": "markdown",
   "metadata": {},
   "source": [
    "## nested Loops\n",
    "* loop inside loops\n",
    "* useful for certain situations like 2d array"
   ]
  },
  {
   "cell_type": "code",
   "execution_count": 36,
   "metadata": {
    "vscode": {
     "languageId": "java"
    }
   },
   "outputs": [
    {
     "name": "stdout",
     "output_type": "stream",
     "text": [
      "0123"
     ]
    }
   ],
   "source": [
    "int[][] arr = {\n",
    "    {0,1},\n",
    "    {2,3}\n",
    "};\n",
    "for (int i = 0; i<arr.length; i++) {\n",
    "    for (int j = 0; j<arr[i].length; j++) {\n",
    "        System.out.print(arr[i][j]);\n",
    "    }\n",
    "}"
   ]
  },
  {
   "cell_type": "markdown",
   "metadata": {},
   "source": [
    "# Unit 5\n",
    "## Creating a Class, describe Naming Conventions\n",
    "* class keyword then class name with first letter capitalized\n",
    "## Constructor, describe why there is no return\n",
    "## Accessor methods, relationship to getter\n",
    "## Mutator methods, relationship to setter, describe void return type\n",
    "## Static variables, Class variables, show use case in code\n",
    "## Show use case of access modifiers: Public, Private, Protected\n",
    "## Static methods, Class methods\n",
    "## this Keyword\n",
    "* \n",
    "## main method, tester methods\n",
    "* used for testing purposes\n",
    "## Inheritance, extends\n",
    "## Subclass constructor, super Keyword"
   ]
  },
  {
   "cell_type": "markdown",
   "metadata": {},
   "source": [
    "## Examples of Class related vocabs in previous codes:\n",
    "1. [Fibonacci](https://aidanywu.github.io/fastpages/jupyter/2022/09/25/fibonacci.html)\n",
    "2. [FRQ1](https://github.com/aidanywu/spring_portfolio/tree/master/src/main/java/com/nighthawk/spring_portfolio/mvc/calendar)\n",
    "3. [FRQ2](https://github.com/aidanywu/spring_portfolio/tree/master/src/main/java/com/nighthawk/spring_portfolio/mvc/person)"
   ]
  }
 ],
 "metadata": {
  "kernelspec": {
   "display_name": "Java",
   "language": "java",
   "name": "java"
  },
  "language_info": {
   "codemirror_mode": "java",
   "file_extension": ".jshell",
   "mimetype": "text/x-java-source",
   "name": "Java",
   "pygments_lexer": "java",
   "version": "11.0.16+8-post-Ubuntu-0ubuntu120.04"
  },
  "orig_nbformat": 4,
  "vscode": {
   "interpreter": {
    "hash": "59ce7d6bb8cd4ae6d5cf8ba5759d47519be8aa1ee658f53dd34a0e354aee55b2"
   }
  }
 },
 "nbformat": 4,
 "nbformat_minor": 2
}
