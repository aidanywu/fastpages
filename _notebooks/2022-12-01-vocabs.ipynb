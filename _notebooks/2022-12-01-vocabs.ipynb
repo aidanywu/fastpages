{
 "cells": [
  {
   "cell_type": "markdown",
   "metadata": {},
   "source": [
    "# Vocabs\n",
    "\n",
    "- toc: true \n",
    "- badges: false\n",
    "- comments: false\n",
    "- categories: [jupyter]"
   ]
  },
  {
   "cell_type": "markdown",
   "metadata": {},
   "source": [
    "# Unit 1\n",
    "## Casting (Division)\n",
    "* Division with double will truncate unless casted"
   ]
  },
  {
   "cell_type": "code",
   "execution_count": 3,
   "metadata": {},
   "outputs": [
    {
     "name": "stdout",
     "output_type": "stream",
     "text": [
      "0\n",
      "0.5\n"
     ]
    }
   ],
   "source": [
    "System.out.println(1/2);\n",
    "System.out.println((double)1/(double)2);"
   ]
  },
  {
   "cell_type": "markdown",
   "metadata": {},
   "source": [
    "## Casting (Truncating and Rounding)\n",
    "* casting to an integer from a double will truncate"
   ]
  },
  {
   "cell_type": "code",
   "execution_count": 4,
   "metadata": {},
   "outputs": [
    {
     "name": "stdout",
     "output_type": "stream",
     "text": [
      "1.5\n",
      "1\n"
     ]
    }
   ],
   "source": [
    "System.out.println(1.5);\n",
    "System.out.println((int)1.5);"
   ]
  },
  {
   "cell_type": "markdown",
   "metadata": {},
   "source": [
    "## Wrapper Classes, why wrap int, double\n",
    "* To use primitive data types as objects\n",
    "* Useful because Collection objects can only store objects"
   ]
  },
  {
   "cell_type": "code",
   "execution_count": 12,
   "metadata": {},
   "outputs": [
    {
     "name": "stdout",
     "output_type": "stream",
     "text": [
      "8\n"
     ]
    }
   ],
   "source": [
    "Integer a = new Integer(8);\n",
    "System.out.println(a);"
   ]
  },
  {
   "cell_type": "code",
   "execution_count": 8,
   "metadata": {},
   "outputs": [
    {
     "ename": "CompilationException",
     "evalue": "",
     "output_type": "error",
     "traceback": [
      "\u001b[1m\u001b[30m|   \u001b[1m\u001b[30mArrayList<\u001b[0m\u001b[1m\u001b[30m\u001b[41mint\u001b[0m\u001b[1m\u001b[30m> myNumbers = new ArrayList<int>();\u001b[0m",
      "\u001b[1m\u001b[31munexpected type\u001b[0m",
      "\u001b[1m\u001b[31m  required: reference\u001b[0m",
      "\u001b[1m\u001b[31m  found:    int\u001b[0m",
      "",
      "\u001b[1m\u001b[30m|   \u001b[1m\u001b[30mArrayList<int> myNumbers = new ArrayList<\u001b[0m\u001b[1m\u001b[30m\u001b[41mint\u001b[0m\u001b[1m\u001b[30m>();\u001b[0m",
      "\u001b[1m\u001b[31munexpected type\u001b[0m",
      "\u001b[1m\u001b[31m  required: reference\u001b[0m",
      "\u001b[1m\u001b[31m  found:    int\u001b[0m",
      ""
     ]
    }
   ],
   "source": [
    "ArrayList<int> nums = new ArrayList<int>();"
   ]
  },
  {
   "cell_type": "code",
   "execution_count": 10,
   "metadata": {},
   "outputs": [
    {
     "name": "stdout",
     "output_type": "stream",
     "text": [
      "[8, 9]\n"
     ]
    }
   ],
   "source": [
    "ArrayList<Integer> nums = new ArrayList<Integer>(); // with wrapper class\n",
    "nums.add(8);\n",
    "nums.add(new Integer(9));\n",
    "System.out.println(nums);"
   ]
  },
  {
   "cell_type": "markdown",
   "metadata": {},
   "source": [
    "# Unit 2\n",
    "## Concatenation\n",
    "* combine string using +\n",
    "* String + object will make object use the .toString() method\n",
    "* for primitives it is just converted"
   ]
  },
  {
   "cell_type": "code",
   "execution_count": 18,
   "metadata": {},
   "outputs": [
    {
     "name": "stdout",
     "output_type": "stream",
     "text": [
      "string2string3\n",
      "string20\n",
      "string2string1\n"
     ]
    }
   ],
   "source": [
    "public class Classs {\n",
    "    public String toString() {\n",
    "        return \"string1\";\n",
    "    }\n",
    "}\n",
    "\n",
    "String a = \"string2\";\n",
    "String b = \"string3\";\n",
    "int c = 0;\n",
    "Classs classs = new Classs();\n",
    "\n",
    "System.out.println(a+b);\n",
    "System.out.println(a+c);\n",
    "System.out.println(a+classs);"
   ]
  },
  {
   "cell_type": "markdown",
   "metadata": {},
   "source": [
    "## Math Class\n",
    "* Used for non built in math functions like sqrt\n",
    "* Can be used to generate random numbers"
   ]
  },
  {
   "cell_type": "code",
   "execution_count": 20,
   "metadata": {},
   "outputs": [
    {
     "name": "stdout",
     "output_type": "stream",
     "text": [
      "2\n",
      "1.4142135623730951\n",
      "3\n",
      "1.7320508075688772\n",
      "8\n",
      "2.8284271247461903\n"
     ]
    }
   ],
   "source": [
    "for (int i = 0; i < 3; i++) {\n",
    "    int num = (int)(Math.random()*10 + 1);\n",
    "    System.out.println(num);\n",
    "    System.out.println(Math.sqrt(num));\n",
    "}"
   ]
  },
  {
   "cell_type": "markdown",
   "metadata": {},
   "source": [
    "## Comparing Numbers\n",
    "* Use =="
   ]
  },
  {
   "cell_type": "code",
   "execution_count": 22,
   "metadata": {},
   "outputs": [
    {
     "name": "stdout",
     "output_type": "stream",
     "text": [
      "true\n",
      "false\n"
     ]
    }
   ],
   "source": [
    "System.out.println(1==1);\n",
    "System.out.println(1==0);"
   ]
  },
  {
   "cell_type": "markdown",
   "metadata": {},
   "source": [
    "## Comparing Strings/Objects\n",
    "* Use .equals() String objects have"
   ]
  },
  {
   "cell_type": "code",
   "execution_count": 26,
   "metadata": {},
   "outputs": [
    {
     "name": "stdout",
     "output_type": "stream",
     "text": [
      "true\n",
      "false\n",
      "true\n",
      "false\n"
     ]
    }
   ],
   "source": [
    "String str1 = new String(\"string\");\n",
    "String str2 = new String(\"string1\");\n",
    "System.out.println(\"string\".equals(\"string\"));\n",
    "System.out.println(\"string\".equals(\"sTring\"));\n",
    "System.out.println(str1.equals(str1));\n",
    "System.out.println(str1.equals(str2));"
   ]
  },
  {
   "cell_type": "markdown",
   "metadata": {},
   "source": [
    "# Unit 3\n",
    "## Compound Boolean Expression\n",
    "* A lot of boolean operators and parentheses\n",
    "* && is and, || is or, ! is not, etc"
   ]
  },
  {
   "cell_type": "code",
   "execution_count": 27,
   "metadata": {},
   "outputs": [
    {
     "name": "stdout",
     "output_type": "stream",
     "text": [
      "true\n"
     ]
    }
   ],
   "source": [
    "boolean t = true;\n",
    "boolean f = false;\n",
    "System.out.println((t||f)||(f&&!t)&&(f||!(!f&&t)));"
   ]
  },
  {
   "cell_type": "markdown",
   "metadata": {},
   "source": [
    "## Truth Tables\n",
    "* To see what operation boolean operators do\n",
    "\n",
    "![truth tables](https://www.realdigital.org/img/228d4788d26e286b5706f6d644ddee8b.svg)"
   ]
  },
  {
   "cell_type": "markdown",
   "metadata": {},
   "source": [
    "## De Morgan's law\n",
    "From Wikipedia:\n",
    "* The negation of a disjunction is the conjunction of the negations\n",
    "* The negation of a conjunction is the disjunction of the negations\n",
    "or\n",
    "* The complement of the union of two sets is the same as the intersection of their complements\n",
    "* The complement of the intersection of two sets is the same as the union of their complements\n",
    "\n",
    "NOT(A or B) is the same as NOT(A) and NOT(B)\n",
    "NOT(A and B) is the same as NOT(A) or NOT(B)\n",
    "\n",
    "![De Morgan's Law](https://wikimedia.org/api/rest_v1/media/math/render/svg/b55ab78fcd4c3b617df4e2195d487dda13c09e7d)"
   ]
  },
  {
   "cell_type": "code",
   "execution_count": 28,
   "metadata": {},
   "outputs": [
    {
     "name": "stdout",
     "output_type": "stream",
     "text": [
      "A is true\n",
      "B is false\n",
      "NOT(A or B): false\n",
      "NOT(A) and NOT(B): false\n",
      "NOT(A and B): true\n",
      "NOT(A) or NOT(B): true\n",
      "NOT(A or B) is the same as NOT(A) and NOT(B)\n",
      "NOT(A and B) is the same as NOT(A) or NOT(B)"
     ]
    }
   ],
   "source": [
    "boolean a = true;\n",
    "boolean b = false;\n",
    "System.out.println(\"A is \" + a);\n",
    "System.out.println(\"B is \" + b);\n",
    "System.out.println(\"NOT(A or B): \" + Boolean.toString(!(a||b)));\n",
    "System.out.println(\"NOT(A) and NOT(B): \" + Boolean.toString((!a)&&(!b)));\n",
    "System.out.println(\"NOT(A and B): \" + Boolean.toString(!(a&&b)));\n",
    "System.out.println(\"NOT(A) or NOT(B): \" + Boolean.toString((!a)||(!b)));\n",
    "if ((!(a||b)) == ((!a)&&(!b))) {\n",
    "    System.out.print(\"NOT(A or B) is the same as NOT(A) and NOT(B)\\n\");\n",
    "}\n",
    "if ((!(a&&b)) == ((!a)||(!b))) {\n",
    "    System.out.print(\"NOT(A and B) is the same as NOT(A) or NOT(B)\");\n",
    "}"
   ]
  },
  {
   "cell_type": "markdown",
   "metadata": {},
   "source": [
    "# Unit 4\n",
    "## For loop/Enhanced for loop\n",
    "* For loops iterats through an index\n",
    "* Enhanced for loops iterate through an iterable"
   ]
  },
  {
   "cell_type": "code",
   "execution_count": 31,
   "metadata": {},
   "outputs": [
    {
     "name": "stdout",
     "output_type": "stream",
     "text": [
      "01234\n",
      "12345"
     ]
    }
   ],
   "source": [
    "for(int i = 0; i<5; i++) {\n",
    "    System.out.print(i);\n",
    "}\n",
    "System.out.println();\n",
    "int[] arr = {1,2,3,4,5};\n",
    "for (int i: arr) {\n",
    "    System.out.print(i);\n",
    "}"
   ]
  },
  {
   "cell_type": "markdown",
   "metadata": {},
   "source": [
    "## While loop versus Do While loop\n",
    "* While loop runs when condition is true after being checked before\n",
    "* Do while loop runs when condition is true after being checked after"
   ]
  },
  {
   "cell_type": "code",
   "execution_count": 35,
   "metadata": {},
   "outputs": [
    {
     "name": "stdout",
     "output_type": "stream",
     "text": [
      "\n",
      "0"
     ]
    }
   ],
   "source": [
    "int i = 0;\n",
    "while (i<0) {\n",
    "    System.out.print(i);\n",
    "    i++;\n",
    "}\n",
    "System.out.println();\n",
    "int i = 0;\n",
    "do {\n",
    "    System.out.print(i);\n",
    "    i++;\n",
    "} while (i<0)"
   ]
  },
  {
   "cell_type": "markdown",
   "metadata": {},
   "source": [
    "## nested Loops\n",
    "* loop inside loops\n",
    "* useful for certain situations like 2d array"
   ]
  },
  {
   "cell_type": "code",
   "execution_count": 36,
   "metadata": {},
   "outputs": [
    {
     "name": "stdout",
     "output_type": "stream",
     "text": [
      "0123"
     ]
    }
   ],
   "source": [
    "int[][] arr = {\n",
    "    {0,1},\n",
    "    {2,3}\n",
    "};\n",
    "for (int i = 0; i<arr.length; i++) {\n",
    "    for (int j = 0; j<arr[i].length; j++) {\n",
    "        System.out.print(arr[i][j]);\n",
    "    }\n",
    "}"
   ]
  },
  {
   "cell_type": "markdown",
   "metadata": {},
   "source": [
    "# Unit 5\n",
    "## Creating a Class, describe Naming Conventions\n",
    "* class keyword then class name with first letter capitalized\n",
    "\n",
    "## Constructor, describe why there is no return\n",
    "* Used when creating an instance of the class\n",
    "* Same name as the class\n",
    "* No return because it returns the reference id of the object\n",
    "\n",
    "## Accessor methods, relationship to getter\n",
    "* To get the value of an attribute\n",
    "* getVar()\n",
    "\n",
    "## Mutator methods, relationship to setter, describe void return type\n",
    "* To set the value of attributes\n",
    "* Relation to setter is that it sets the value of an attribute\n",
    "* void return type means it doesn't return anything\n",
    "\n",
    "## Static variables and methods, Class variables\n",
    "* Belongs to the class, not instance\n",
    "* Built once throughout all instances\n",
    "\n",
    "## Access modifiers: Public, Private, Protected\n",
    "* public allows it to be accessed freely\n",
    "* private allows it to only be accessed within the same class\n",
    "* protected allows it to only be accessed within the same package and outside of a child class\n",
    "\n",
    "## this Keyword\n",
    "* refers to the existing class\n",
    "\n",
    "## main method, tester methods\n",
    "* used for testing purposes\n",
    "\n",
    "## Inheritance, extends\n",
    "* Gets all methods from the superclass\n",
    "\n",
    "## Subclass constructor, super Keyword\n",
    "* The subclass constructor is used when instantiating the object\n",
    "* super refers to the superclass\n",
    "\n",
    "## Overloading a method, same name different parameters\n",
    "* two methods with the same name but different parameters allows a method to be called with different data types\n",
    "* makes code clean and readable and gives flexibility\n",
    "\n",
    "## Overriding a method, same signature of a method\n",
    "* subclass has same method as super class and the subclass method is called rather than the super class's\n",
    "\n",
    "## Abstract Class, Abstract Method\n",
    "* Abstract methods are defined in the subclasses and having abstract methods require superclass to be abstract as well. Objects cannot be created from an abstract class, they can only be extended. This is useful when you want to create a class that can be extended but not instantiated.\n",
    "\n",
    "## Standard methods: toString(), equals(), hashCode()\n",
    "* ToString is a standard method that is used to convert an object into a string. Equals is useful for comparing two objects to see if they are equal. HashCode is useful for getting a unique hash code for an object.\n",
    "\n",
    "## Late binding of object, referencing superclass object, ie Animal a = new Chicken(); Animal b = new Goat();\n",
    "* allows the compiler to determine which method to use at runtime instead of compile time\n",
    "\n",
    "## Polymorphism: any of overloading, overriding, late binding\n",
    "* See above definitions\n",
    "\n",
    "## Big O notation for Hash map, Binary Search, Single loop, Nested Loop\n",
    "* Big O notation is used to describe time complexity\n",
    "* A hashmap operation takes O(1) to run\n",
    "* Binary search takes O(log n)\n",
    "* Single loop takes O(n)\n",
    "* Nested loop takes O(n^k) where k is how many nested loops there are"
   ]
  },
  {
   "cell_type": "markdown",
   "metadata": {},
   "source": [
    "## Examples of Class related vocabs:"
   ]
  },
  {
   "cell_type": "code",
   "execution_count": null,
   "metadata": {},
   "outputs": [],
   "source": [
    "/*\n",
    " * Creator: Nighthawk Coding Society\n",
    " * Mini Lab Name: Fibonacci sequence, featuring a Stream Algorithm\n",
    " * \n",
    " */\n",
    "\n",
    "import java.util.ArrayList;  \n",
    "import java.util.HashMap;\n",
    "import java.util.stream.Stream;\n",
    "\n",
    "/* Objective will require changing to abstract class with one or more abstract methods below */\n",
    "abstract class Fibo {\n",
    "    String name;  // name or title of method\n",
    "    int size;  // nth sequence\n",
    "    int hashID;  // counter for hashIDs in hash map\n",
    "    ArrayList<Long> list;   // captures current Fibonacci sequence\n",
    "    HashMap<Integer, Object> hash;  // captures each sequence leading to final result\n",
    "\n",
    "    /*\n",
    "     Zero parameter constructor uses Telescoping technique to allow setting of the required value nth\n",
    "     @param: none\n",
    "     */\n",
    "    public Fibo() {\n",
    "        this(20); // telescope to avoid code duplication, using default as 20\n",
    "    }\n",
    "\n",
    "    /*\n",
    "     Construct the nth fibonacci number\n",
    "     @param: nth number, the value is constrained to 92 because of overflow in a long\n",
    "     */\n",
    "    public Fibo(int nth) {\n",
    "        this.size = nth;\n",
    "        this.list = new ArrayList<>();\n",
    "        this.hashID = 0;\n",
    "        this.hash = new HashMap<>();\n",
    "        //initialize fibonacci and time mvc\n",
    "        this.init();\n",
    "    }\n",
    "\n",
    "    /*\n",
    "     This Method should be \"abstract\"\n",
    "     Leave method as protected, as it is only authorized to extender of the class\n",
    "     Make new class that extends and defines init()\n",
    "     Inside references within this class would change from this to super\n",
    "     Repeat process using for, while, recursion\n",
    "     */\n",
    "    protected abstract void init();\n",
    "\n",
    "    /*\n",
    "     Number is added to fibonacci sequence, current state of \"list\" is added to hash for hashID \"num\"\n",
    "     */\n",
    "    public void setData(long num) {\n",
    "        list.add(num);\n",
    "        hash.put(this.hashID++, list.clone());\n",
    "    }\n",
    "\n",
    "    /*\n",
    "     Custom Getter to return last element in fibonacci sequence\n",
    "     */\n",
    "    public long getNth() {\n",
    "        return list.get(this.size - 1);\n",
    "    }\n",
    "\n",
    "    /*\n",
    "     Custom Getter to return last fibonacci sequence in HashMap\n",
    "     */\n",
    "    public Object getNthSeq(int i) {\n",
    "        return hash.get(i);\n",
    "    }\n",
    "\n",
    "    /*\n",
    "     Console/Terminal supported print method\n",
    "     */\n",
    "    public void print() {\n",
    "        System.out.println(\"Init method = \" + this.name);\n",
    "        System.out.println(\"fibonacci Number \" + this.size + \" = \" + this.getNth());\n",
    "        System.out.println(\"fibonacci List = \" + this.list);\n",
    "        System.out.println(\"fibonacci Hashmap = \" + this.hash);\n",
    "        for (int i=0 ; i<this.size; i++ ) {\n",
    "            System.out.println(\"fibonacci Sequence \" + (i+1) + \" = \" + this.getNthSeq(i));\n",
    "        }\n",
    "        System.out.println();\n",
    "    }\n",
    "}\n",
    "public class FibF extends Fibo {\n",
    "    public void init() {\n",
    "        super.name = \"For\";\n",
    "        int count = super.size;\n",
    "        long[] previous = new long[] {0, 1};\n",
    "        for (int i = 0; i < count; i++) {\n",
    "            super.setData(previous[0]);\n",
    "            previous = new long[] {previous[1], previous[0] + previous[1]};\n",
    "        }\n",
    "    }\n",
    "    static public void main(String[] args) {\n",
    "        long start = System.nanoTime();\n",
    "        FibF fibF = new FibF();\n",
    "        long end = System.nanoTime();\n",
    "        fibF.print();\n",
    "        System.out.println(\"Time: \" + (end-start) + \" ns\");\n",
    "    }\n",
    "}\n",
    "FibF.main(null);"
   ]
  },
  {
   "cell_type": "code",
   "execution_count": null,
   "metadata": {},
   "outputs": [],
   "source": [
    "package com.nighthawk.spring_portfolio.mvc.calendar;\n",
    "\n",
    "// Prototype Implementation\n",
    "\n",
    "public class APCalendar {\n",
    "\n",
    "    /** Returns true if year is a leap year and false otherwise.\n",
    "     * isLeapYear(2019) returns False\n",
    "     * isLeapYear(2016) returns True\n",
    "     */          \n",
    "    public static boolean isLeapYear(int year) {\n",
    "        // implementation not shown\n",
    "        if (year % 400 == 0 || (year % 4 == 0 && year % 100 != 0)) {\n",
    "            return true;\n",
    "        }\n",
    "        return false;\n",
    "        }\n",
    "        \n",
    "    /** Returns the value representing the day of the week \n",
    "     * 0 denotes Sunday, \n",
    "     * 1 denotes Monday, ..., \n",
    "     * 6 denotes Saturday. \n",
    "     * firstDayOfYear(2019) returns 2 for Tuesday.\n",
    "    */\n",
    "    public static int firstDayOfYear(int year) {\n",
    "        // implementation not shown\n",
    "        if (year > 1752) {\n",
    "            return (year + numberOfLeapYears(1, year - 1))%7;\n",
    "        }\n",
    "        return (year + (year-1)/4 + 5)%7;\n",
    "        }\n",
    "\n",
    "\n",
    "    /** Returns n, where month, day, and year specify the nth day of the year.\n",
    "     * This method accounts for whether year is a leap year. \n",
    "     * dayOfYear(1, 1, 2019) return 1\n",
    "     * dayOfYear(3, 1, 2017) returns 60, since 2017 is not a leap year\n",
    "     * dayOfYear(3, 1, 2016) returns 61, since 2016 is a leap year. \n",
    "    */ \n",
    "    public static int dayOfYear(int month, int day, int year) {\n",
    "        // implementation not shown\n",
    "        int count = 0;\n",
    "        if (month < 8) {\n",
    "            count = 31*((month)/2) + 30*((month-1)/2) + day;\n",
    "        } else {\n",
    "            count = 214 + 31*((month-7)/2) + 30*((month-8)/2) + day;\n",
    "        }\n",
    "        if (month > 2) {\n",
    "            if (!isLeapYear(year)) {\n",
    "                count = count - 2;\n",
    "            } else {\n",
    "                count--;\n",
    "            }\n",
    "        }\n",
    "        return count;\n",
    "        }\n",
    "\n",
    "    /** Returns the number of leap years between year1 and year2, inclusive.\n",
    "     * Precondition: 0 <= year1 <= year2\n",
    "    */ \n",
    "    public static int numberOfLeapYears(int year1, int year2) {\n",
    "         // to be implemented in part (a)\n",
    "        int count = 0;\n",
    "        for (int i = year1; i <= year2; i++) {\n",
    "            if (isLeapYear(i)) {\n",
    "                count++;\n",
    "            }\n",
    "        }\n",
    "        return count;\n",
    "        }\n",
    "\n",
    "    /** Returns the value representing the day of the week for the given date\n",
    "     * Precondition: The date represented by month, day, year is a valid date.\n",
    "    */\n",
    "    public static int dayOfWeek(int month, int day, int year) { \n",
    "        // to be implemented in part (b)\n",
    "        return (firstDayOfYear(year) + dayOfYear(month, day, year) - 1) % 7;\n",
    "        }\n",
    "\n",
    "    /** Tester method */\n",
    "    public static void main(String[] args) {\n",
    "        // Private access modifiers\n",
    "        System.out.println(\"numberOfLeapYears 2000-2022: \" + APCalendar.numberOfLeapYears(2000, 2022));\n",
    "        System.out.println(\"firstDayOfYear 1700 (1): \" + APCalendar.firstDayOfYear(1700));\n",
    "        System.out.println(\"firstDayOfYear 1701 (3): \" + APCalendar.firstDayOfYear(1701));\n",
    "        System.out.println(\"firstDayOfYear 1752 (3): \" + APCalendar.firstDayOfYear(1752));\n",
    "        System.out.println(\"firstDayOfYear 1753 (1): \" + APCalendar.firstDayOfYear(1753));\n",
    "        System.out.println(\"firstDayOfYear 1800 (3): \" + APCalendar.firstDayOfYear(1800));\n",
    "        System.out.println(\"firstDayOfYear 1801 (4): \" + APCalendar.firstDayOfYear(1801));\n",
    "        System.out.println(\"firstDayOfYear 2019 (2): \" + APCalendar.firstDayOfYear(2019));\n",
    "        System.out.println(\"dayOfYear 3/1/2017: \" + APCalendar.dayOfYear(3, 1, 2017));\n",
    "        System.out.println(\"dayOfYear 3/1/2016: \" + APCalendar.dayOfYear(3, 1, 2016));\n",
    "\n",
    "        // Public access modifiers\n",
    "        System.out.println(\"isLeapYear 1600: \" + APCalendar.isLeapYear(1600));\n",
    "        System.out.println(\"isLeapYear 1800: \" + APCalendar.isLeapYear(1800));\n",
    "        System.out.println(\"isLeapYear 2019: \" + APCalendar.isLeapYear(2019));\n",
    "        System.out.println(\"isLeapYear 2024: \" + APCalendar.isLeapYear(2024));\n",
    "        System.out.println(\"numberOfLeapYears 2000-2022: \" + APCalendar.numberOfLeapYears(2000, 2022));\n",
    "        System.out.println(\"dayOfWeek 7/5/2022: \" + APCalendar.dayOfWeek(7, 5, 2022));\n",
    "        System.out.println(\"dayOfWeek 8/5/2022: \" + APCalendar.dayOfWeek(8, 5, 2022));\n",
    "        System.out.println(\"dayOfWeek 11/18/2022: \" + APCalendar.dayOfWeek(11, 18, 2022));\n",
    "    }\n",
    "\n",
    "}package com.nighthawk.spring_portfolio.mvc.calendar;\n",
    "\n",
    "// Prototype Implementation\n",
    "\n",
    "public class APCalendar {\n",
    "\n",
    "    /** Returns true if year is a leap year and false otherwise.\n",
    "     * isLeapYear(2019) returns False\n",
    "     * isLeapYear(2016) returns True\n",
    "     */          \n",
    "    public static boolean isLeapYear(int year) {\n",
    "        // implementation not shown\n",
    "        if (year % 400 == 0 || (year % 4 == 0 && year % 100 != 0)) {\n",
    "            return true;\n",
    "        }\n",
    "        return false;\n",
    "        }\n",
    "        \n",
    "    /** Returns the value representing the day of the week \n",
    "     * 0 denotes Sunday, \n",
    "     * 1 denotes Monday, ..., \n",
    "     * 6 denotes Saturday. \n",
    "     * firstDayOfYear(2019) returns 2 for Tuesday.\n",
    "    */\n",
    "    public static int firstDayOfYear(int year) {\n",
    "        // implementation not shown\n",
    "        if (year > 1752) {\n",
    "            return (year + numberOfLeapYears(1, year - 1))%7;\n",
    "        }\n",
    "        return (year + (year-1)/4 + 5)%7;\n",
    "        }\n",
    "\n",
    "\n",
    "    /** Returns n, where month, day, and year specify the nth day of the year.\n",
    "     * This method accounts for whether year is a leap year. \n",
    "     * dayOfYear(1, 1, 2019) return 1\n",
    "     * dayOfYear(3, 1, 2017) returns 60, since 2017 is not a leap year\n",
    "     * dayOfYear(3, 1, 2016) returns 61, since 2016 is a leap year. \n",
    "    */ \n",
    "    public static int dayOfYear(int month, int day, int year) {\n",
    "        // implementation not shown\n",
    "        int count = 0;\n",
    "        if (month < 8) {\n",
    "            count = 31*((month)/2) + 30*((month-1)/2) + day;\n",
    "        } else {\n",
    "            count = 214 + 31*((month-7)/2) + 30*((month-8)/2) + day;\n",
    "        }\n",
    "        if (month > 2) {\n",
    "            if (!isLeapYear(year)) {\n",
    "                count = count - 2;\n",
    "            } else {\n",
    "                count--;\n",
    "            }\n",
    "        }\n",
    "        return count;\n",
    "        }\n",
    "\n",
    "    /** Returns the number of leap years between year1 and year2, inclusive.\n",
    "     * Precondition: 0 <= year1 <= year2\n",
    "    */ \n",
    "    public static int numberOfLeapYears(int year1, int year2) {\n",
    "         // to be implemented in part (a)\n",
    "        int count = 0;\n",
    "        for (int i = year1; i <= year2; i++) {\n",
    "            if (isLeapYear(i)) {\n",
    "                count++;\n",
    "            }\n",
    "        }\n",
    "        return count;\n",
    "        }\n",
    "\n",
    "    /** Returns the value representing the day of the week for the given date\n",
    "     * Precondition: The date represented by month, day, year is a valid date.\n",
    "    */\n",
    "    public static int dayOfWeek(int month, int day, int year) { \n",
    "        // to be implemented in part (b)\n",
    "        return (firstDayOfYear(year) + dayOfYear(month, day, year) - 1) % 7;\n",
    "        }\n",
    "\n",
    "    /** Tester method */\n",
    "    public static void main(String[] args) {\n",
    "        // Private access modifiers\n",
    "        System.out.println(\"numberOfLeapYears 2000-2022: \" + APCalendar.numberOfLeapYears(2000, 2022));\n",
    "        System.out.println(\"firstDayOfYear 1700 (1): \" + APCalendar.firstDayOfYear(1700));\n",
    "        System.out.println(\"firstDayOfYear 1701 (3): \" + APCalendar.firstDayOfYear(1701));\n",
    "        System.out.println(\"firstDayOfYear 1752 (3): \" + APCalendar.firstDayOfYear(1752));\n",
    "        System.out.println(\"firstDayOfYear 1753 (1): \" + APCalendar.firstDayOfYear(1753));\n",
    "        System.out.println(\"firstDayOfYear 1800 (3): \" + APCalendar.firstDayOfYear(1800));\n",
    "        System.out.println(\"firstDayOfYear 1801 (4): \" + APCalendar.firstDayOfYear(1801));\n",
    "        System.out.println(\"firstDayOfYear 2019 (2): \" + APCalendar.firstDayOfYear(2019));\n",
    "        System.out.println(\"dayOfYear 3/1/2017: \" + APCalendar.dayOfYear(3, 1, 2017));\n",
    "        System.out.println(\"dayOfYear 3/1/2016: \" + APCalendar.dayOfYear(3, 1, 2016));\n",
    "\n",
    "        // Public access modifiers\n",
    "        System.out.println(\"isLeapYear 1600: \" + APCalendar.isLeapYear(1600));\n",
    "        System.out.println(\"isLeapYear 1800: \" + APCalendar.isLeapYear(1800));\n",
    "        System.out.println(\"isLeapYear 2019: \" + APCalendar.isLeapYear(2019));\n",
    "        System.out.println(\"isLeapYear 2024: \" + APCalendar.isLeapYear(2024));\n",
    "        System.out.println(\"numberOfLeapYears 2000-2022: \" + APCalendar.numberOfLeapYears(2000, 2022));\n",
    "        System.out.println(\"dayOfWeek 7/5/2022: \" + APCalendar.dayOfWeek(7, 5, 2022));\n",
    "        System.out.println(\"dayOfWeek 8/5/2022: \" + APCalendar.dayOfWeek(8, 5, 2022));\n",
    "        System.out.println(\"dayOfWeek 11/18/2022: \" + APCalendar.dayOfWeek(11, 18, 2022));\n",
    "    }\n",
    "\n",
    "}"
   ]
  },
  {
   "cell_type": "code",
   "execution_count": null,
   "metadata": {},
   "outputs": [],
   "source": [
    "package com.nighthawk.spring_portfolio.mvc.calendar;\n",
    "\n",
    "/** Simple POJO \n",
    " * Used to Interface with APCalendar\n",
    " * The toString method(s) prepares object for JSON serialization\n",
    " * Note... this is NOT an entity, just an abstraction\n",
    " */\n",
    "class Year {\n",
    "   private int year;\n",
    "   private boolean isLeapYear;\n",
    "\n",
    "   private int year4;\n",
    "   private int firstDayOfYear;\n",
    "\n",
    "   private int year1;\n",
    "   private int year2;\n",
    "   private int numberOfLeapYears;\n",
    "\n",
    "   private int month;\n",
    "   private int day;\n",
    "   private int year3;\n",
    "   private int dayOfWeek;\n",
    "\n",
    "   private int month1;\n",
    "   private int day1;\n",
    "   private int year5;\n",
    "   private int dayOfYear;\n",
    "\n",
    "   // zero argument constructor\n",
    "   public Year() {} \n",
    "\n",
    "   /* year getter/setters */\n",
    "   public int getYear() {\n",
    "      return year;\n",
    "   }\n",
    "   public void setYear(int year) {\n",
    "      this.year = year;\n",
    "      this.setIsLeapYear(year);\n",
    "   }\n",
    "\n",
    "\n",
    "   /* year getter/setters */\n",
    "   public int getYear4() {\n",
    "      return year4;\n",
    "   }\n",
    "   public void setFirst(int year) {\n",
    "      this.year4 = year;\n",
    "      this.setFirstDayOfYear(year);\n",
    "   }\n",
    "\n",
    "   \n",
    "   /* year getter/setters */\n",
    "   public int getYear1() {\n",
    "      return year1;\n",
    "   }\n",
    "   public int getYear2() {\n",
    "      return year2;\n",
    "   }\n",
    "   public void setNum(int year1, int year2) {\n",
    "      this.year1 = year1;\n",
    "      this.year2 = year2;\n",
    "      this.setNumberOfLeapYears(year1, year2);\n",
    "   }\n",
    "\n",
    "   /* year getter/setters */\n",
    "   public int getMonth() {\n",
    "      return month;\n",
    "   }\n",
    "   public int getDay() {\n",
    "      return day;\n",
    "   }\n",
    "   public int getYear3() {\n",
    "      return year3;\n",
    "   }\n",
    "   public void setWeek(int month, int day, int year) {\n",
    "      this.month = month;\n",
    "      this.day = day;\n",
    "      this.year3 = year;\n",
    "      this.setDayOfWeek(month, day, year);\n",
    "   }\n",
    "\n",
    "   public int getMonth1() {\n",
    "      return month1;\n",
    "   }\n",
    "   public int getDay1() {\n",
    "      return day1;\n",
    "   }\n",
    "   public int getYear5() {\n",
    "      return year5;\n",
    "   }\n",
    "   public void setDay(int month, int day, int year) {\n",
    "      this.month1 = month;\n",
    "      this.day1 = day;\n",
    "      this.year5 = year;\n",
    "      this.setDayOfYear(month, day, year);\n",
    "   }   \n",
    "\n",
    "   /* isLeapYear getter/setters */\n",
    "   public boolean getIsLeapYear(int year) {\n",
    "      return APCalendar.isLeapYear(year);\n",
    "   }\n",
    "   private void setIsLeapYear(int year) {  // this is private to avoid tampering\n",
    "      this.isLeapYear = APCalendar.isLeapYear(year);\n",
    "   }\n",
    "\n",
    "   /* isLeapYearToString formatted to be mapped to JSON */\n",
    "   public String isLeapYearToString(){\n",
    "      return ( \"{ \\\"year\\\": \"  +this.year+  \", \" + \"\\\"isLeapYear\\\": \"  +this.isLeapYear+ \" }\" );\n",
    "   }\t\n",
    "\n",
    "   /* isLeapYear getter/setters */\n",
    "   public int getFirstDayOfYear(int year) {\n",
    "      return APCalendar.firstDayOfYear(year);\n",
    "   }\n",
    "   private void setFirstDayOfYear(int year) {  // this is private to avoid tampering\n",
    "      this.firstDayOfYear = APCalendar.firstDayOfYear(year);\n",
    "   }\n",
    "\n",
    "   /* isLeapYearToString formatted to be mapped to JSON */\n",
    "   public String firstDayOfYearToString(){\n",
    "      return ( \"{ \\\"year\\\": \"  +this.year4+  \", \" + \"\\\"firstDayOfYear\\\": \"  +this.firstDayOfYear+ \" }\" );\n",
    "   }\t\n",
    "\n",
    "   /* isLeapYear getter/setters */\n",
    "   public int getNumberOfLeapYears(int year1, int year2) {\n",
    "      return APCalendar.numberOfLeapYears(year1, year2);\n",
    "   }\n",
    "   private void setNumberOfLeapYears(int year1, int year2) {  // this is private to avoid tampering\n",
    "      this.numberOfLeapYears = APCalendar.numberOfLeapYears(year1, year2);\n",
    "   }\n",
    "\n",
    "   /* isLeapYearToString formatted to be mapped to JSON */\n",
    "   public String numberOfLeapYearsToString(){\n",
    "      return ( \"{ \\\"year1\\\": \"  +this.year1+  \", \" + \"\\\"year2\\\": \"  +this.year2+  \", \" + \"\\\"numberOfLeapYears\\\": \"  +this.numberOfLeapYears+ \" }\" );\n",
    "      }\t\n",
    "\n",
    "   /* isLeapYear getter/setters */\n",
    "   public int getDayOfWeek(int month, int day, int year) {\n",
    "      return APCalendar.dayOfWeek(month, day, year);\n",
    "   }\n",
    "   private void setDayOfWeek(int month, int day, int year) {  // this is private to avoid tampering\n",
    "      this.dayOfWeek = APCalendar.dayOfWeek(month, day, year);\n",
    "   }\n",
    "\n",
    "   /* isLeapYearToString formatted to be mapped to JSON */\n",
    "   public String dayOfWeekToString(){\n",
    "      return ( \"{ \\\"month\\\": \"  +this.month+  \", \" + \"\\\"day\\\": \"  +this.day+  \", \" + \"\\\"year\\\": \"  +this.year3+  \", \" + \"\\\"dayOfWeek\\\": \"  +this.dayOfWeek+ \" }\" );\n",
    "   }\n",
    "\n",
    "   public int getDayOfYear(int month, int day, int year) {\n",
    "      return APCalendar.dayOfYear(month, day, year);\n",
    "   }\n",
    "   private void setDayOfYear(int month, int day, int year) {  // this is private to avoid tampering\n",
    "      this.dayOfYear = APCalendar.dayOfYear(month, day, year);\n",
    "   }\n",
    "\n",
    "   /* isLeapYearToString formatted to be mapped to JSON */\n",
    "   public String dayOfYearToString(){\n",
    "      return ( \"{ \\\"month\\\": \"  +this.month1+  \", \" + \"\\\"day\\\": \"  +this.day1+  \", \" + \"\\\"year\\\": \"  +this.year5+  \", \" + \"\\\"dayOfYear\\\": \"  +this.dayOfYear+ \" }\" );\n",
    "   }\t\n",
    "\n",
    "   /* standard toString placeholder until class is extended */\n",
    "   public String toString() { \n",
    "      return isLeapYearToString(); \n",
    "   }\n",
    "\n",
    "   public static void main(String[] args) {\n",
    "      Year year = new Year();\n",
    "      year.setYear(2020);\n",
    "      System.out.println(year);\n",
    "   }\n",
    "}"
   ]
  },
  {
   "cell_type": "markdown",
   "metadata": {},
   "source": [
    "Past code with classes:\n",
    "1. [Fibonacci](https://aidanywu.github.io/fastpages/jupyter/2022/09/25/fibonacci.html)\n",
    "2. [FRQ1](https://github.com/aidanywu/spring_portfolio/tree/master/src/main/java/com/nighthawk/spring_portfolio/mvc/calendar)\n",
    "3. [FRQ2](https://github.com/aidanywu/spring_portfolio/tree/master/src/main/java/com/nighthawk/spring_portfolio/mvc/person)"
   ]
  }
 ],
 "metadata": {
  "kernelspec": {
   "display_name": "Java",
   "language": "java",
   "name": "java"
  },
  "language_info": {
   "codemirror_mode": "java",
   "file_extension": ".jshell",
   "mimetype": "text/x-java-source",
   "name": "java",
   "pygments_lexer": "java",
   "version": "11.0.16+8-post-Ubuntu-0ubuntu120.04"
  },
  "orig_nbformat": 4,
  "vscode": {
   "interpreter": {
    "hash": "59ce7d6bb8cd4ae6d5cf8ba5759d47519be8aa1ee658f53dd34a0e354aee55b2"
   }
  }
 },
 "nbformat": 4,
 "nbformat_minor": 2
}
