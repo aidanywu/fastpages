{
 "cells": [
  {
   "cell_type": "markdown",
   "metadata": {},
   "source": [
    "# Unit 1 Key Learnings\n",
    "> code.org Unit 1 key learnings\n",
    "\n",
    "- toc: false \n",
    "- badges: false\n",
    "- comments: false\n",
    "- categories: [jupyter]"
   ]
  },
  {
   "cell_type": "code",
   "execution_count": null,
   "metadata": {
    "vscode": {
     "languageId": "java"
    }
   },
   "outputs": [],
   "source": [
    "// import existing packages\n",
    "import org.code.neighborhood.*;"
   ]
  },
  {
   "cell_type": "code",
   "execution_count": null,
   "metadata": {
    "vscode": {
     "languageId": "java"
    }
   },
   "outputs": [],
   "source": [
    "// Defining a class called MyNeighborhood\n",
    "public class MyNeighborhood {\n",
    "    public static void main(String[] args) {\n",
    "        // creating an instance of PainterPlus() with variable name myBackgroundPainter\n",
    "        PainterPlus myPainterPlus = new PainterPlus();\n",
    "        // Running turnRight() method from PainterPlus instance\n",
    "        myPainterPlus.turnRight();\n",
    "    }\n",
    "  }"
   ]
  },
  {
   "cell_type": "code",
   "execution_count": null,
   "metadata": {
    "vscode": {
     "languageId": "java"
    }
   },
   "outputs": [],
   "source": [
    "// Creating subclass of PainterPlus which inherits attributes from superclass Painter\n",
    "public class PainterPlus extends Painter {\n",
    "    public PainterPlus() {\n",
    "      super();\n",
    "    }\n",
    "    // Defining public turnRight() method with no return types in PainterPlus class\n",
    "    public void turnRight() {\n",
    "      turnLeft();\n",
    "      turnLeft();\n",
    "      turnLeft();\n",
    "    }\n",
    "}"
   ]
  },
  {
   "cell_type": "markdown",
   "metadata": {},
   "source": [
    "# Key Learnings\n",
    "\n",
    "* Creating and using objects\n",
    "  * use \"public class\" to create a class\n",
    "    * Within the class, use \"public\" to define methods that can used outside and inside the class and \"private\" to define methods that can only be used within the class.\n",
    "    * \"void\" is used to specify that the respective method does not return anything\n",
    "    * \"static\" means that no matter how many times the method is initialized, it will only be created once, therefore all instances created shares a single field. It belongs to itself instead of an instance.\n",
    "  * use \"[Class Name] [Variable Name] = new [Class Name] ();\" to create new object of the specified class\n",
    "  * use period (.) after object variable to use its method\n",
    "* Extend\n",
    "  * \"extends\" makes the class defined before it a subclass of the superclass (an already defined class you are extending) that is defined after \"extends\"\n",
    "  * The subclass inherits all of the superclass's attributes"
   ]
  }
 ],
 "metadata": {
  "kernelspec": {
   "display_name": "Java",
   "language": "java",
   "name": "java"
  },
  "language_info": {
   "codemirror_mode": "java",
   "file_extension": ".jshell",
   "mimetype": "text/x-java-source",
   "name": "Java",
   "pygments_lexer": "java",
   "version": "11.0.16+8-post-Ubuntu-0ubuntu120.04"
  },
  "orig_nbformat": 4,
  "vscode": {
   "interpreter": {
    "hash": "916dbcbb3f70747c44a77c7bcd40155683ae19c65e1c03b4aa3499c5328201f1"
   }
  }
 },
 "nbformat": 4,
 "nbformat_minor": 2
}
