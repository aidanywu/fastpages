{
 "cells": [
  {
   "cell_type": "markdown",
   "metadata": {},
   "source": [
    "# Unit 1 Primitive Types Notes & HW\n",
    "\n",
    "- toc: false \n",
    "- badges: false\n",
    "- comments: false\n",
    "- categories: [jupyter]"
   ]
  },
  {
   "cell_type": "markdown",
   "metadata": {},
   "source": [
    "# Notes\n",
    "* int, boolean, char, and double are primitives\n",
    "* Strings and other classes are objects\n",
    "* Compare primitives with == and objects with .equals()\n",
    "* Objects have properties while primitives do not"
   ]
  },
  {
   "cell_type": "markdown",
   "metadata": {},
   "source": [
    "# Homework\n",
    "# 2006 FRQ 2a"
   ]
  },
  {
   "cell_type": "code",
   "execution_count": null,
   "metadata": {},
   "outputs": [],
   "source": [
    "public double purchasePrice () {\n",
    "    double taxTotal = getListPrice() * taxRate;\n",
    "    return taxTotal + getListPrice();\n",
    "}"
   ]
  },
  {
   "cell_type": "markdown",
   "metadata": {},
   "source": [
    "# 2006 FRQ 3a"
   ]
  },
  {
   "cell_type": "code",
   "execution_count": null,
   "metadata": {},
   "outputs": [],
   "source": [
    "public int compareCustomer (Customer other) {\n",
    "    int c = getName().compareTo(other.getName());\n",
    "\n",
    "    if (c != 0) {\n",
    "        return c;\n",
    "    }\n",
    "    else {\n",
    "        int rd = other.getID();\n",
    "        \n",
    "        if (getID() = rd) {\n",
    "            return 1;\n",
    "        }\n",
    "        else if (getID() < rd) {\n",
    "            return -1;\n",
    "        }\n",
    "        else {\n",
    "            return 0;\n",
    "        }\n",
    "    }\n",
    "}"
   ]
  }
 ],
 "metadata": {
  "kernelspec": {
   "display_name": "Python 3.10.2 64-bit",
   "language": "python",
   "name": "python3"
  },
  "language_info": {
   "codemirror_mode": "java",
   "file_extension": ".jshell",
   "mimetype": "text/x-java-source",
   "name": "python",
   "pygments_lexer": "java",
   "version": "3.10.2"
  },
  "orig_nbformat": 4,
  "vscode": {
   "interpreter": {
    "hash": "59ce7d6bb8cd4ae6d5cf8ba5759d47519be8aa1ee658f53dd34a0e354aee55b2"
   }
  }
 },
 "nbformat": 4,
 "nbformat_minor": 2
}
