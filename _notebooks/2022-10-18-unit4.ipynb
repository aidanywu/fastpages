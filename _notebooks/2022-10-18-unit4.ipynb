{
 "cells": [
  {
   "cell_type": "markdown",
   "metadata": {},
   "source": [
    "# Unit 4 Iteration Notes & HW\n",
    "\n",
    "- toc: false \n",
    "- badges: false\n",
    "- comments: false\n",
    "- categories: [jupyter]"
   ]
  },
  {
   "cell_type": "markdown",
   "metadata": {},
   "source": [
    "# Notes\n",
    "* While loops run when conditional is true\n",
    "* For loops defines a variable that changes every loop and runs when the conditional is true\n",
    "* Nested iteration can be good in situations\n",
    "* Enhanced for loops can loop through all elements in an array but the array cannot be modified when it is looping"
   ]
  },
  {
   "cell_type": "markdown",
   "metadata": {},
   "source": [
    "# Homework\n",
    "# Part 1\n",
    "2. Write a program where a random number is generated. Then the user tries to guess the number. If they guess too high display something to let them know, and same for if they guess a number that is too low. The loop must iterate until the number is guessed correctly."
   ]
  },
  {
   "cell_type": "code",
   "execution_count": null,
   "metadata": {},
   "outputs": [],
   "source": []
  },
  {
   "cell_type": "markdown",
   "metadata": {},
   "source": [
    "# Part 2\n",
    "![completed](https://user-images.githubusercontent.com/56620132/200745799-8352c74d-0e03-4dbe-9b5d-64bba5e0d9bd.png)\n",
    "\n",
    "![completed](https://user-images.githubusercontent.com/56620132/200745936-0e739675-514a-4770-b70b-ea3224b779f8.png)"
   ]
  }
 ],
 "metadata": {
  "kernelspec": {
   "display_name": "Python 3.10.2 64-bit",
   "language": "python",
   "name": "python3"
  },
  "language_info": {
   "codemirror_mode": "java",
   "file_extension": ".jshell",
   "mimetype": "text/x-java-source",
   "name": "python",
   "pygments_lexer": "java",
   "version": "3.10.2"
  },
  "orig_nbformat": 4,
  "vscode": {
   "interpreter": {
    "hash": "59ce7d6bb8cd4ae6d5cf8ba5759d47519be8aa1ee658f53dd34a0e354aee55b2"
   }
  }
 },
 "nbformat": 4,
 "nbformat_minor": 2
}
