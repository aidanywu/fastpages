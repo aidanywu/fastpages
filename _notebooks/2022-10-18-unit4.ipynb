{
 "cells": [
  {
   "cell_type": "markdown",
   "metadata": {},
   "source": [
    "# Unit 4 Iteration Notes & HW\n",
    "\n",
    "- toc: false \n",
    "- badges: false\n",
    "- comments: false\n",
    "- categories: [jupyter]"
   ]
  },
  {
   "cell_type": "markdown",
   "metadata": {},
   "source": [
    "# Notes\n",
    "* While loops run when conditional is true\n",
    "* For loops defines a variable that changes every loop and runs when the conditional is true\n",
    "* Nested iteration can be good in situations\n",
    "* Enhanced for loops can loop through all elements in an array but the array cannot be modified when it is looping"
   ]
  },
  {
   "cell_type": "markdown",
   "metadata": {},
   "source": [
    "# Homework\n",
    "# Part 1\n",
    "2. Write a program where a random number is generated. Then the user tries to guess the number. If they guess too high display something to let them know, and same for if they guess a number that is too low. The loop must iterate until the number is guessed correctly."
   ]
  },
  {
   "cell_type": "code",
   "execution_count": 13,
   "metadata": {
    "vscode": {
     "languageId": "java"
    }
   },
   "outputs": [
    {
     "name": "stdout",
     "output_type": "stream",
     "text": [
      "9\n",
      "Guess a number 1-10: 9\n",
      "congrats\n"
     ]
    }
   ],
   "source": [
    "import java.lang.Math;\n",
    "import java.util.Scanner;\n",
    "\n",
    "public class NumberGuess {\n",
    "    private int answer;\n",
    "    private int guess;\n",
    "    Scanner in = new Scanner(System.in);\n",
    "    public NumberGuess() {\n",
    "        this.answer = (int) Math.floor(Math.random()*10 + 1);\n",
    "        System.out.println(answer);\n",
    "    }\n",
    "    public void play() {\n",
    "        while (answer != guess) {\n",
    "            this.getGuess();\n",
    "        }\n",
    "        in.close();\n",
    "    }\n",
    "    public void getGuess() {\n",
    "        System.out.print(\"Guess a number 1-10: \");\n",
    "        this.guess = in.nextInt();\n",
    "        System.out.println(this.guess);\n",
    "        if (this.guess > this.answer) {\n",
    "            System.out.println(\"too high\");\n",
    "        } else if (this.guess < this.answer) {\n",
    "            System.out.println(\"too low\");\n",
    "        } else {\n",
    "            System.out.println(\"congrats\");\n",
    "        }\n",
    "    }\n",
    "    public static void main(String[] args) {\n",
    "        NumberGuess num = new NumberGuess();\n",
    "        num.play();\n",
    "    }\n",
    "}"
   ]
  },
  {
   "cell_type": "markdown",
   "metadata": {},
   "source": [
    "# Part 2\n",
    "![completed](https://user-images.githubusercontent.com/56620132/200745799-8352c74d-0e03-4dbe-9b5d-64bba5e0d9bd.png)\n",
    "\n",
    "![completed](https://user-images.githubusercontent.com/56620132/200745936-0e739675-514a-4770-b70b-ea3224b779f8.png)"
   ]
  }
 ],
 "metadata": {
  "kernelspec": {
   "display_name": "Java",
   "language": "java",
   "name": "java"
  },
  "language_info": {
   "codemirror_mode": "java",
   "file_extension": ".jshell",
   "mimetype": "text/x-java-source",
   "name": "Java",
   "pygments_lexer": "java",
   "version": "11.0.16+8-post-Ubuntu-0ubuntu120.04"
  },
  "orig_nbformat": 4,
  "vscode": {
   "interpreter": {
    "hash": "916dbcbb3f70747c44a77c7bcd40155683ae19c65e1c03b4aa3499c5328201f1"
   }
  }
 },
 "nbformat": 4,
 "nbformat_minor": 2
}
