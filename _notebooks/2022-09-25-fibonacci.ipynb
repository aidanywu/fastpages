{
 "cells": [
  {
   "cell_type": "markdown",
   "metadata": {},
   "source": [
    "# Fibo, Extends and Data Modeling\n",
    "> Fibonacci with extend\n",
    "\n",
    "- toc: false \n",
    "- badges: false\n",
    "- comments: false\n",
    "- categories: [jupyter]"
   ]
  },
  {
   "cell_type": "markdown",
   "metadata": {},
   "source": [
    "# Fibonacci Superclass"
   ]
  },
  {
   "cell_type": "code",
   "execution_count": 88,
   "metadata": {},
   "outputs": [],
   "source": [
    "/*\n",
    " * Creator: Nighthawk Coding Society\n",
    " * Mini Lab Name: Fibonacci sequence, featuring a Stream Algorithm\n",
    " * \n",
    " */\n",
    "\n",
    "import java.util.ArrayList;  \n",
    "import java.util.HashMap;\n",
    "import java.util.stream.Stream;\n",
    "\n",
    "/* Objective will require changing to abstract class with one or more abstract methods below */\n",
    "abstract class Fibo {\n",
    "    String name;  // name or title of method\n",
    "    int size;  // nth sequence\n",
    "    int hashID;  // counter for hashIDs in hash map\n",
    "    ArrayList<Long> list;   // captures current Fibonacci sequence\n",
    "    HashMap<Integer, Object> hash;  // captures each sequence leading to final result\n",
    "\n",
    "    /*\n",
    "     Zero parameter constructor uses Telescoping technique to allow setting of the required value nth\n",
    "     @param: none\n",
    "     */\n",
    "    public Fibo() {\n",
    "        this(20); // telescope to avoid code duplication, using default as 20\n",
    "    }\n",
    "\n",
    "    /*\n",
    "     Construct the nth fibonacci number\n",
    "     @param: nth number, the value is constrained to 92 because of overflow in a long\n",
    "     */\n",
    "    public Fibo(int nth) {\n",
    "        this.size = nth;\n",
    "        this.list = new ArrayList<>();\n",
    "        this.hashID = 0;\n",
    "        this.hash = new HashMap<>();\n",
    "        //initialize fibonacci and time mvc\n",
    "        this.init();\n",
    "    }\n",
    "\n",
    "    /*\n",
    "     This Method should be \"abstract\"\n",
    "     Leave method as protected, as it is only authorized to extender of the class\n",
    "     Make new class that extends and defines init()\n",
    "     Inside references within this class would change from this to super\n",
    "     Repeat process using for, while, recursion\n",
    "     */\n",
    "    protected abstract void init();\n",
    "\n",
    "    /*\n",
    "     Number is added to fibonacci sequence, current state of \"list\" is added to hash for hashID \"num\"\n",
    "     */\n",
    "    public void setData(long num) {\n",
    "        list.add(num);\n",
    "        hash.put(this.hashID++, list.clone());\n",
    "    }\n",
    "\n",
    "    /*\n",
    "     Custom Getter to return last element in fibonacci sequence\n",
    "     */\n",
    "    public long getNth() {\n",
    "        return list.get(this.size - 1);\n",
    "    }\n",
    "\n",
    "    /*\n",
    "     Custom Getter to return last fibonacci sequence in HashMap\n",
    "     */\n",
    "    public Object getNthSeq(int i) {\n",
    "        return hash.get(i);\n",
    "    }\n",
    "\n",
    "    /*\n",
    "     Console/Terminal supported print method\n",
    "     */\n",
    "    public void print() {\n",
    "        System.out.println(\"Init method = \" + this.name);\n",
    "        System.out.println(\"fibonacci Number \" + this.size + \" = \" + this.getNth());\n",
    "        System.out.println(\"fibonacci List = \" + this.list);\n",
    "        System.out.println(\"fibonacci Hashmap = \" + this.hash);\n",
    "        for (int i=0 ; i<this.size; i++ ) {\n",
    "            System.out.println(\"fibonacci Sequence \" + (i+1) + \" = \" + this.getNthSeq(i));\n",
    "        }\n",
    "        System.out.println();\n",
    "    }\n",
    "}"
   ]
  },
  {
   "cell_type": "markdown",
   "metadata": {},
   "source": [
    "# Fibonacci with For Loop"
   ]
  },
  {
   "cell_type": "code",
   "execution_count": 81,
   "metadata": {},
   "outputs": [
    {
     "name": "stdout",
     "output_type": "stream",
     "text": [
      "Init method = For\n",
      "fibonacci Number 20 = 4181\n",
      "fibonacci List = [0, 1, 1, 2, 3, 5, 8, 13, 21, 34, 55, 89, 144, 233, 377, 610, 987, 1597, 2584, 4181]\n",
      "fibonacci Hashmap = {0=[0], 1=[0, 1], 2=[0, 1, 1], 3=[0, 1, 1, 2], 4=[0, 1, 1, 2, 3], 5=[0, 1, 1, 2, 3, 5], 6=[0, 1, 1, 2, 3, 5, 8], 7=[0, 1, 1, 2, 3, 5, 8, 13], 8=[0, 1, 1, 2, 3, 5, 8, 13, 21], 9=[0, 1, 1, 2, 3, 5, 8, 13, 21, 34], 10=[0, 1, 1, 2, 3, 5, 8, 13, 21, 34, 55], 11=[0, 1, 1, 2, 3, 5, 8, 13, 21, 34, 55, 89], 12=[0, 1, 1, 2, 3, 5, 8, 13, 21, 34, 55, 89, 144], 13=[0, 1, 1, 2, 3, 5, 8, 13, 21, 34, 55, 89, 144, 233], 14=[0, 1, 1, 2, 3, 5, 8, 13, 21, 34, 55, 89, 144, 233, 377], 15=[0, 1, 1, 2, 3, 5, 8, 13, 21, 34, 55, 89, 144, 233, 377, 610], 16=[0, 1, 1, 2, 3, 5, 8, 13, 21, 34, 55, 89, 144, 233, 377, 610, 987], 17=[0, 1, 1, 2, 3, 5, 8, 13, 21, 34, 55, 89, 144, 233, 377, 610, 987, 1597], 18=[0, 1, 1, 2, 3, 5, 8, 13, 21, 34, 55, 89, 144, 233, 377, 610, 987, 1597, 2584], 19=[0, 1, 1, 2, 3, 5, 8, 13, 21, 34, 55, 89, 144, 233, 377, 610, 987, 1597, 2584, 4181]}\n",
      "fibonacci Sequence 1 = [0]\n",
      "fibonacci Sequence 2 = [0, 1]\n",
      "fibonacci Sequence 3 = [0, 1, 1]\n",
      "fibonacci Sequence 4 = [0, 1, 1, 2]\n",
      "fibonacci Sequence 5 = [0, 1, 1, 2, 3]\n",
      "fibonacci Sequence 6 = [0, 1, 1, 2, 3, 5]\n",
      "fibonacci Sequence 7 = [0, 1, 1, 2, 3, 5, 8]\n",
      "fibonacci Sequence 8 = [0, 1, 1, 2, 3, 5, 8, 13]\n",
      "fibonacci Sequence 9 = [0, 1, 1, 2, 3, 5, 8, 13, 21]\n",
      "fibonacci Sequence 10 = [0, 1, 1, 2, 3, 5, 8, 13, 21, 34]\n",
      "fibonacci Sequence 11 = [0, 1, 1, 2, 3, 5, 8, 13, 21, 34, 55]\n",
      "fibonacci Sequence 12 = [0, 1, 1, 2, 3, 5, 8, 13, 21, 34, 55, 89]\n",
      "fibonacci Sequence 13 = [0, 1, 1, 2, 3, 5, 8, 13, 21, 34, 55, 89, 144]\n",
      "fibonacci Sequence 14 = [0, 1, 1, 2, 3, 5, 8, 13, 21, 34, 55, 89, 144, 233]\n",
      "fibonacci Sequence 15 = [0, 1, 1, 2, 3, 5, 8, 13, 21, 34, 55, 89, 144, 233, 377]\n",
      "fibonacci Sequence 16 = [0, 1, 1, 2, 3, 5, 8, 13, 21, 34, 55, 89, 144, 233, 377, 610]\n",
      "fibonacci Sequence 17 = [0, 1, 1, 2, 3, 5, 8, 13, 21, 34, 55, 89, 144, 233, 377, 610, 987]\n",
      "fibonacci Sequence 18 = [0, 1, 1, 2, 3, 5, 8, 13, 21, 34, 55, 89, 144, 233, 377, 610, 987, 1597]\n",
      "fibonacci Sequence 19 = [0, 1, 1, 2, 3, 5, 8, 13, 21, 34, 55, 89, 144, 233, 377, 610, 987, 1597, 2584]\n",
      "fibonacci Sequence 20 = [0, 1, 1, 2, 3, 5, 8, 13, 21, 34, 55, 89, 144, 233, 377, 610, 987, 1597, 2584, 4181]\n",
      "\n",
      "Time: 25516 ns\n"
     ]
    }
   ],
   "source": [
    "public class FibF extends Fibo {\n",
    "    public void init() {\n",
    "        super.name = \"For\";\n",
    "        int count = super.size;\n",
    "        long[] previous = new long[] {0, 1};\n",
    "        for (int i = 0; i < count; i++) {\n",
    "            super.setData(previous[0]);\n",
    "            previous = new long[] {previous[1], previous[0] + previous[1]};\n",
    "        }\n",
    "    }\n",
    "    static public void main(String[] args) {\n",
    "        long start = System.nanoTime();\n",
    "        FibF fibF = new FibF();\n",
    "        long end = System.nanoTime();\n",
    "        fibF.print();\n",
    "        System.out.println(\"Time: \" + (end-start) + \" ns\");\n",
    "    }\n",
    "}\n",
    "FibF.main(null);"
   ]
  },
  {
   "cell_type": "markdown",
   "metadata": {},
   "source": [
    "# Fibonacci with While Loop"
   ]
  },
  {
   "cell_type": "code",
   "execution_count": 110,
   "metadata": {},
   "outputs": [
    {
     "name": "stdout",
     "output_type": "stream",
     "text": [
      "Init method = While\n",
      "fibonacci Number 20 = 4181\n",
      "fibonacci List = [0, 1, 1, 2, 3, 5, 8, 13, 21, 34, 55, 89, 144, 233, 377, 610, 987, 1597, 2584, 4181]\n",
      "fibonacci Hashmap = {0=[0], 1=[0, 1], 2=[0, 1, 1], 3=[0, 1, 1, 2], 4=[0, 1, 1, 2, 3], 5=[0, 1, 1, 2, 3, 5], 6=[0, 1, 1, 2, 3, 5, 8], 7=[0, 1, 1, 2, 3, 5, 8, 13], 8=[0, 1, 1, 2, 3, 5, 8, 13, 21], 9=[0, 1, 1, 2, 3, 5, 8, 13, 21, 34], 10=[0, 1, 1, 2, 3, 5, 8, 13, 21, 34, 55], 11=[0, 1, 1, 2, 3, 5, 8, 13, 21, 34, 55, 89], 12=[0, 1, 1, 2, 3, 5, 8, 13, 21, 34, 55, 89, 144], 13=[0, 1, 1, 2, 3, 5, 8, 13, 21, 34, 55, 89, 144, 233], 14=[0, 1, 1, 2, 3, 5, 8, 13, 21, 34, 55, 89, 144, 233, 377], 15=[0, 1, 1, 2, 3, 5, 8, 13, 21, 34, 55, 89, 144, 233, 377, 610], 16=[0, 1, 1, 2, 3, 5, 8, 13, 21, 34, 55, 89, 144, 233, 377, 610, 987], 17=[0, 1, 1, 2, 3, 5, 8, 13, 21, 34, 55, 89, 144, 233, 377, 610, 987, 1597], 18=[0, 1, 1, 2, 3, 5, 8, 13, 21, 34, 55, 89, 144, 233, 377, 610, 987, 1597, 2584], 19=[0, 1, 1, 2, 3, 5, 8, 13, 21, 34, 55, 89, 144, 233, 377, 610, 987, 1597, 2584, 4181]}\n",
      "fibonacci Sequence 1 = [0]\n",
      "fibonacci Sequence 2 = [0, 1]\n",
      "fibonacci Sequence 3 = [0, 1, 1]\n",
      "fibonacci Sequence 4 = [0, 1, 1, 2]\n",
      "fibonacci Sequence 5 = [0, 1, 1, 2, 3]\n",
      "fibonacci Sequence 6 = [0, 1, 1, 2, 3, 5]\n",
      "fibonacci Sequence 7 = [0, 1, 1, 2, 3, 5, 8]\n",
      "fibonacci Sequence 8 = [0, 1, 1, 2, 3, 5, 8, 13]\n",
      "fibonacci Sequence 9 = [0, 1, 1, 2, 3, 5, 8, 13, 21]\n",
      "fibonacci Sequence 10 = [0, 1, 1, 2, 3, 5, 8, 13, 21, 34]\n",
      "fibonacci Sequence 11 = [0, 1, 1, 2, 3, 5, 8, 13, 21, 34, 55]\n",
      "fibonacci Sequence 12 = [0, 1, 1, 2, 3, 5, 8, 13, 21, 34, 55, 89]\n",
      "fibonacci Sequence 13 = [0, 1, 1, 2, 3, 5, 8, 13, 21, 34, 55, 89, 144]\n",
      "fibonacci Sequence 14 = [0, 1, 1, 2, 3, 5, 8, 13, 21, 34, 55, 89, 144, 233]\n",
      "fibonacci Sequence 15 = [0, 1, 1, 2, 3, 5, 8, 13, 21, 34, 55, 89, 144, 233, 377]\n",
      "fibonacci Sequence 16 = [0, 1, 1, 2, 3, 5, 8, 13, 21, 34, 55, 89, 144, 233, 377, 610]\n",
      "fibonacci Sequence 17 = [0, 1, 1, 2, 3, 5, 8, 13, 21, 34, 55, 89, 144, 233, 377, 610, 987]\n",
      "fibonacci Sequence 18 = [0, 1, 1, 2, 3, 5, 8, 13, 21, 34, 55, 89, 144, 233, 377, 610, 987, 1597]\n",
      "fibonacci Sequence 19 = [0, 1, 1, 2, 3, 5, 8, 13, 21, 34, 55, 89, 144, 233, 377, 610, 987, 1597, 2584]\n",
      "fibonacci Sequence 20 = [0, 1, 1, 2, 3, 5, 8, 13, 21, 34, 55, 89, 144, 233, 377, 610, 987, 1597, 2584, 4181]\n",
      "\n",
      "Time: 25798 ns\n"
     ]
    }
   ],
   "source": [
    "public class FibW extends Fibo {\n",
    "    public void init() {\n",
    "        super.name = \"While\";\n",
    "        int count = 0;\n",
    "        long[] previous = new long[] {0, 1};\n",
    "        while (count < super.size) {\n",
    "            super.setData(previous[0]);\n",
    "            previous = new long[] {previous[1], previous[0] + previous[1]};\n",
    "            count++;\n",
    "        }\n",
    "    }\n",
    "    static public void main(String[] args) {\n",
    "        long start = System.nanoTime();\n",
    "        FibW fibW = new FibW();\n",
    "        long end = System.nanoTime();\n",
    "        fibW.print();\n",
    "        System.out.println(\"Time: \" + (end-start) + \" ns\");\n",
    "    }\n",
    "}\n",
    "FibW.main(null);"
   ]
  },
  {
   "cell_type": "markdown",
   "metadata": {},
   "source": [
    "# Fibonacci with Recursive"
   ]
  },
  {
   "cell_type": "code",
   "execution_count": 114,
   "metadata": {},
   "outputs": [
    {
     "ename": "CompilationException",
     "evalue": "",
     "output_type": "error",
     "traceback": [
      "\u001b[1m\u001b[30m|   \u001b[1m\u001b[30m            \u001b[0m\u001b[1m\u001b[30m\u001b[41mthis.init\u001b[0m\u001b[1m\u001b[30m(count);\u001b[0m",
      "\u001b[1m\u001b[31mno suitable method found for init(int)\u001b[0m",
      "\u001b[1m\u001b[31m    method FibR.init() is not applicable\u001b[0m",
      "\u001b[1m\u001b[31m      (actual and formal argument lists differ in length)\u001b[0m",
      "\u001b[1m\u001b[31m    method FibR.init(int,long[]) is not applicable\u001b[0m",
      "\u001b[1m\u001b[31m      (actual and formal argument lists differ in length)\u001b[0m",
      ""
     ]
    }
   ],
   "source": [
    "public class FibR extends Fibo {\n",
    "    public void init() {\n",
    "        super.name = \"While\";\n",
    "        long[] previous = new long[] {0, 1};\n",
    "        System.out.print(previous);\n",
    "        this.init(0, previous);\n",
    "    }\n",
    "    public void init(int count, long[] past) {\n",
    "        if (count < super.size) {\n",
    "            super.setData(past[0]);\n",
    "            past = new long[] {past[1], past[0] + past[1]};\n",
    "            count++;\n",
    "            this.init(count);\n",
    "        }\n",
    "    }\n",
    "    static public void main(String[] args) {\n",
    "        long start = System.nanoTime();\n",
    "        FibR fibR = new FibR();\n",
    "        long end = System.nanoTime();\n",
    "        fibR.print();\n",
    "        System.out.println(\"Time: \" + (end-start) + \" ns\");\n",
    "    }\n",
    "}\n",
    "FibR.main(null);"
   ]
  },
  {
   "cell_type": "markdown",
   "metadata": {},
   "source": [
    "# CollegeBoard Standards\n",
    "Skill 1.B: Determine code that would be used to complete code segments (ie For, While, Recursion)\n",
    "We used for, while, and recursion in init() of the subclasses to create the Fibonacci sequence.\n",
    "\n",
    "Skill 4.C: Determine if two or more code segments yield equivalent results (be sure to Discuss how you know results are the same)\n",
    "If both the for and while loop starts at the same number and add 1 until it reaches the same conditional, and the same code block is ran every time, we can determine that the two or more code segments yield equivalent results. In our for loop, we defined i with the same number as count in while, 0. The conditional for both was run when the the index is less than the size. They both also increased by 1 every time the code is ran. The recursive also starts at the same index and increments by 1 every time it is recalled at the end of the code. The overall code in the function also has an if statement that is the same conditional as the for and while loops.\n",
    "\n",
    "Skill 5.A: Describe the behavior of a given segment of program code (describe the difference in recursion versus for & while loops, perhaps add timing to determine speed)\n",
    "For and while loops repeat the same code block until a condition is evaluated to false. In recursion, the function is recalling itself within its code repeatedly and not just repeating from start to end. For example, in the fist call, the code is ran and when it reaches to the point where it recalls itself, the function calls itself and runs the same code again and calls itself when it reaches the same point, etc."
   ]
  }
 ],
 "metadata": {
  "kernelspec": {
   "display_name": "Java",
   "language": "java",
   "name": "java"
  },
  "language_info": {
   "codemirror_mode": "java",
   "file_extension": ".jshell",
   "mimetype": "text/x-java-source",
   "name": "java",
   "pygments_lexer": "java",
   "version": "11.0.16+8-post-Ubuntu-0ubuntu120.04"
  },
  "orig_nbformat": 4,
  "vscode": {
   "interpreter": {
    "hash": "59ce7d6bb8cd4ae6d5cf8ba5759d47519be8aa1ee658f53dd34a0e354aee55b2"
   }
  }
 },
 "nbformat": 4,
 "nbformat_minor": 2
}
