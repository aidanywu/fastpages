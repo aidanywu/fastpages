{
 "cells": [
  {
   "cell_type": "markdown",
   "metadata": {},
   "source": [
    "# Unit 3 Boolean Expressions and if Statements Notes & HW\n",
    "\n",
    "- toc: false \n",
    "- badges: false\n",
    "- comments: false\n",
    "- categories: [jupyter]"
   ]
  },
  {
   "cell_type": "markdown",
   "metadata": {},
   "source": [
    "# Notes\n",
    "* Booleans are true or false values\n",
    "* Comparison expressions generate booleans\n",
    "* If statement run when the conditional evaluates to the boolean true\n",
    "* Else if statements take in another conditional after the If statement\n",
    "* Else statements runs when the conditional evaluates to false\n",
    "* De Morgan's Law: (A∪B)’= A’∩B’, (A∩B)’= A’∪B’"
   ]
  },
  {
   "cell_type": "markdown",
   "metadata": {},
   "source": [
    "# Homework\n",
    "# 2009 FRQ 3b"
   ]
  },
  {
   "cell_type": "code",
   "execution_count": null,
   "metadata": {},
   "outputs": [],
   "source": [
    "public int getChargeStartTime (int chargeTime) {\n",
    "    int startHour = 0;\n",
    "    int lowPrice = 500_000;\n",
    "\n",
    "    for (int x = 0; x < 23; x++) {\n",
    "        if (lowPrice > getChargingCost(x, chargeTime)) {\n",
    "            lowPrice = getChargingCost(x, chargeTime);\n",
    "            startHour = x;\n",
    "        }\n",
    "    }\n",
    "    return startHour;\n",
    "}"
   ]
  },
  {
   "cell_type": "markdown",
   "metadata": {},
   "source": [
    "# 2017 FRQ 1b"
   ]
  },
  {
   "cell_type": "code",
   "execution_count": null,
   "metadata": {},
   "outputs": [],
   "source": [
    "public boolean isStrictlyIncreasing () {\n",
    "    boolean increasing = true;\n",
    "\n",
    "    for (int i = 1; i < digitListSize(); i++) {\n",
    "        if (digitList.get(i-1) >= digitList.get(i)) {\n",
    "            increasing = false;\n",
    "        }\n",
    "    }\n",
    "    return increasing;\n",
    "}"
   ]
  },
  {
   "cell_type": "markdown",
   "metadata": {},
   "source": [
    "# 2019 FRQ 3b"
   ]
  },
  {
   "cell_type": "code",
   "execution_count": null,
   "metadata": {},
   "outputs": [],
   "source": [
    "public boolean isBalanced(ArrayList<String> delimiters) {\n",
    "    int numOpen = 0, numClosed = 0;\n",
    "\n",
    "    for(String d : delimiters) {\n",
    "        if(d.equals(openDel))\n",
    "            numOpen++;\n",
    "\n",
    "        if(d.equals(closeDel))\n",
    "            numClosed++;\n",
    "                \n",
    "        if(numClosed > numOpen)\n",
    "            return false;\n",
    "    }\n",
    "    return numOpen == numClosed;\n",
    "}"
   ]
  }
 ],
 "metadata": {
  "kernelspec": {
   "display_name": "Python 3.10.2 64-bit",
   "language": "python",
   "name": "python3"
  },
  "language_info": {
   "codemirror_mode": "java",
   "file_extension": ".jshell",
   "mimetype": "text/x-java-source",
   "name": "python",
   "pygments_lexer": "java",
   "version": "3.10.2"
  },
  "orig_nbformat": 4,
  "vscode": {
   "interpreter": {
    "hash": "59ce7d6bb8cd4ae6d5cf8ba5759d47519be8aa1ee658f53dd34a0e354aee55b2"
   }
  }
 },
 "nbformat": 4,
 "nbformat_minor": 2
}
