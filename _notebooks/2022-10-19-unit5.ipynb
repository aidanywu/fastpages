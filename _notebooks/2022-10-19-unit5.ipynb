{
 "cells": [
  {
   "cell_type": "markdown",
   "metadata": {},
   "source": [
    "# Unit 5 Writing Classes Notes & HW\n",
    "\n",
    "- toc: false \n",
    "- badges: false\n",
    "- comments: false\n",
    "- categories: [jupyter]"
   ]
  },
  {
   "cell_type": "markdown",
   "metadata": {},
   "source": [
    "# Notes\n",
    "* Classes have properties and methods\n",
    "* Properties store information about each object\n",
    "  * private and public\n",
    "* Methods runs code\n",
    "* Getter and setter methods are coded to modify private attributes"
   ]
  },
  {
   "cell_type": "markdown",
   "metadata": {},
   "source": [
    "# Homework\n",
    "# 2021 FRQ 1a"
   ]
  },
  {
   "cell_type": "code",
   "execution_count": null,
   "metadata": {},
   "outputs": [],
   "source": [
    "public int scoreGuess (String guess){\n",
    "    int count = 0;\n",
    "\n",
    "    for (int i = 0; i <= secret.length() - guess.length(); i++) {\n",
    "        if (secret.substring(i, i + guess.length()). equals(guess)) {\n",
    "            count++;\n",
    "        }\n",
    "    }\n",
    "\n",
    "    return count * Math.pow(guess.length(), 2);\n",
    "}"
   ]
  },
  {
   "cell_type": "markdown",
   "metadata": {},
   "source": [
    "# 2021 FRQ 3a"
   ]
  },
  {
   "cell_type": "code",
   "execution_count": null,
   "metadata": {},
   "outputs": [],
   "source": [
    "public void addMembers (String[] names, int gradYear) {\n",
    "    for (string n : names) {\n",
    "        MemberInfo newM = new MemberInfo (n, gradYear, true);\n",
    "        memberList.add(newM);\n",
    "    }\n",
    "}"
   ]
  }
 ],
 "metadata": {
  "kernelspec": {
   "display_name": "Python 3.10.2 64-bit",
   "language": "python",
   "name": "python3"
  },
  "language_info": {
   "codemirror_mode": "java",
   "file_extension": ".jshell",
   "mimetype": "text/x-java-source",
   "name": "python",
   "pygments_lexer": "java",
   "version": "3.10.2"
  },
  "orig_nbformat": 4,
  "vscode": {
   "interpreter": {
    "hash": "59ce7d6bb8cd4ae6d5cf8ba5759d47519be8aa1ee658f53dd34a0e354aee55b2"
   }
  }
 },
 "nbformat": 4,
 "nbformat_minor": 2
}
