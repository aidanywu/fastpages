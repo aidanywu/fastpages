{
 "cells": [
  {
   "attachments": {},
   "cell_type": "markdown",
   "metadata": {},
   "source": [
    "# Test 4/20\n",
    "\n",
    "- toc: true \n",
    "- badges: false\n",
    "- comments: false\n",
    "- categories: [jupyter]"
   ]
  },
  {
   "cell_type": "code",
   "execution_count": 72,
   "metadata": {
    "vscode": {
     "languageId": "java"
    }
   },
   "outputs": [
    {
     "name": "stdout",
     "output_type": "stream",
     "text": [
      "Libary Book Count: 0\n",
      "{title: Barron's Computer Science \"A\"}\n",
      "{title: Angels and Demons}\n",
      "{title: Lion, Witch, and a Wardrobe}\n",
      "Libary Book Count: 3\n"
     ]
    }
   ],
   "source": [
    "import java.util.*;\n",
    "\n",
    "public class Book {\n",
    "    protected static ArrayList<Book> library = new ArrayList<Book>();\n",
    "    protected int id;\n",
    "    protected static int bookCount = 0;\n",
    "    protected String title;\n",
    "    protected long shelfLife;\n",
    "    protected long time;\n",
    "    \n",
    "    public static String getLibrary() {\n",
    "        return library.toString();\n",
    "    }\n",
    "    // public boolean getExpired() {\n",
    "    //     boolean expired = this.getTimeLeft() <= 0\n",
    "    //     if (expired) {\n",
    "    //         this.library.remove()\n",
    "    //     }\n",
    "    //     return expired;\n",
    "    // }\n",
    "    public long getShelfLife() {\n",
    "        return this.shelfLife;\n",
    "    }\n",
    "    public long getTime() {\n",
    "        return this.time;\n",
    "    }\n",
    "    public long getTimeLeft() {\n",
    "        return this.time + this.shelfLife - System.nanoTime();\n",
    "    }\n",
    "    public Book(String title) {\n",
    "        this.title = title;\n",
    "        this.id = this.bookCount;\n",
    "        this.bookCount++;\n",
    "        this.shelfLife = 0;\n",
    "    }\n",
    "    public String toString() {\n",
    "        return \"{title: \" + title + \"}\";\n",
    "    }\n",
    "    public static int getBookCount() {\n",
    "        return bookCount;\n",
    "    }\n",
    "    public static void tester() {\n",
    "        System.out.println(\"Libary Book Count: \" + Book.getBookCount());  // Notice how this method exist and works before any books are created\n",
    "        Book[] books = {    // Use Array iniitialization to add book\n",
    "                    new Book(\"Barron's Computer Science \\\"A\\\"\"),  // Set a new Book object as array element.\n",
    "                    new Book(\"Angels and Demons\"),\n",
    "                    new Book(\"Lion, Witch, and a Wardrobe\")\n",
    "        };\n",
    "        for (Book book : books) {  // Use Foreach syntax to iterate over array\n",
    "            System.out.println(book);   // this is same as book.toString()\n",
    "        }\n",
    "        System.out.println(\"Libary Book Count: \" + Book.getBookCount());\n",
    "    }\n",
    "}\n",
    "Book.tester();"
   ]
  },
  {
   "cell_type": "code",
   "execution_count": 73,
   "metadata": {
    "vscode": {
     "languageId": "java"
    }
   },
   "outputs": [
    {
     "name": "stdout",
     "output_type": "stream",
     "text": [
      "{title: novel1}\n",
      "5\n",
      "me\n",
      "10000000000\n",
      "30180700455906\n",
      "9999161094\n",
      "false\n",
      "4998725588\n",
      "false\n",
      "-502345295\n",
      "true\n",
      "[{title: novel1}, {title: novel2}]\n"
     ]
    }
   ],
   "source": [
    "public class Novel extends Book {\n",
    "    private String author;\n",
    "    public void addShelfLife() {\n",
    "        super.shelfLife += (long)1000000000*10;\n",
    "    }\n",
    "    public Novel(String title) {\n",
    "        super(title);\n",
    "        this.time = System.nanoTime();\n",
    "        this.addShelfLife();\n",
    "        super.library.add(this);\n",
    "    }\n",
    "    public String getAuthor() {\n",
    "        return this.author;\n",
    "    }\n",
    "    public void setAuthor(String author) {\n",
    "        this.author = author;\n",
    "    }\n",
    "    public void returnBook() {\n",
    "        this.addShelfLife();\n",
    "    }\n",
    "    public static void testerN() throws InterruptedException{\n",
    "        Novel novel1 = new Novel(\"novel1\");\n",
    "        Novel novel2 = new Novel(\"novel2\");\n",
    "        System.out.println(novel1.toString());\n",
    "        System.out.println(Novel.getBookCount());\n",
    "        novel1.setAuthor(\"me\");\n",
    "        System.out.println(novel1.getAuthor());\n",
    "        System.out.println(novel1.getShelfLife());\n",
    "        System.out.println(novel1.getTime());\n",
    "        System.out.println(novel1.getTimeLeft());\n",
    "        System.out.println(novel1.getExpired());\n",
    "        Thread.sleep(5000);\n",
    "        System.out.println(novel1.getTimeLeft());\n",
    "        System.out.println(novel1.getExpired());\n",
    "        novel2.returnBook();\n",
    "        Thread.sleep(5500);\n",
    "        System.out.println(novel1.getTimeLeft());\n",
    "        System.out.println(novel1.getExpired());\n",
    "        System.out.println(novel2.getTimeLeft());\n",
    "        System.out.println(novel2.getExpired());\n",
    "        System.out.println(Novel.getLibrary());\n",
    "    }\n",
    "}\n",
    "Novel.testerN();"
   ]
  },
  {
   "cell_type": "code",
   "execution_count": null,
   "metadata": {
    "vscode": {
     "languageId": "java"
    }
   },
   "outputs": [],
   "source": [
    "public class Textbook extends Book {\n",
    "    private String publishingCompany;\n",
    "    private long checkoutTime;\n",
    "    public void addShelfLife() {\n",
    "        super.shelfLife += (long)1000000000*10;\n",
    "    }\n",
    "    public Textbook(String title) {\n",
    "        super(title);\n",
    "        this.checkoutTime = System.nanoTime();\n",
    "        this.addShelfLife();\n",
    "        super.library.add(this);\n",
    "    }\n",
    "    public String getPublishingCompany() {\n",
    "        return this.publishingCompany;\n",
    "    }\n",
    "    public void setPublishingCompany(String publishingCompany) {\n",
    "        this.publishingCompany = publishingCompany;\n",
    "        this.setShelfLife();\n",
    "    }\n",
    "    public static void testerT() {\n",
    "        Novel tb1 = new Novel(\"tb1\");\n",
    "        Novel tb2 = new Novel(\"tb2\");\n",
    "        System.out.println(tb1.toString());\n",
    "        System.out.println(tb1.getBookCount());\n",
    "        tb1.setAuthor(\"me\");\n",
    "        System.out.println(tb1.getAuthor());\n",
    "        System.out.println(tb1.getShelfLife());\n",
    "        System.out.println(tb1.getTime());\n",
    "        System.out.println(tb1.getTimeLeft());\n",
    "        System.out.println(tb1.getExpired());\n",
    "        Thread.sleep(5000);\n",
    "        System.out.println(tb1.getTimeLeft());\n",
    "        System.out.println(tb1.getExpired());\n",
    "        Thread.sleep(5500);\n",
    "        System.out.println(tb1.getTimeLeft());\n",
    "        System.out.println(tb1.getExpired());\n",
    "    }\n",
    "}\n",
    "Textbook.testerT();"
   ]
  }
 ],
 "metadata": {
  "kernelspec": {
   "display_name": "Java",
   "language": "java",
   "name": "java"
  },
  "language_info": {
   "codemirror_mode": "java",
   "file_extension": ".jshell",
   "mimetype": "text/x-java-source",
   "name": "Java",
   "pygments_lexer": "java",
   "version": "11.0.16+8-post-Ubuntu-0ubuntu120.04"
  },
  "orig_nbformat": 4,
  "vscode": {
   "interpreter": {
    "hash": "59ce7d6bb8cd4ae6d5cf8ba5759d47519be8aa1ee658f53dd34a0e354aee55b2"
   }
  }
 },
 "nbformat": 4,
 "nbformat_minor": 2
}
