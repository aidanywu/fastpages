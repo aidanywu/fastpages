{
 "cells": [
  {
   "cell_type": "markdown",
   "metadata": {},
   "source": [
    "# Vocabs\n",
    "\n",
    "- toc: true \n",
    "- badges: false\n",
    "- comments: false\n",
    "- categories: [jupyter]"
   ]
  },
  {
   "attachments": {},
   "cell_type": "markdown",
   "metadata": {},
   "source": [
    "## 2015 CB MC\n",
    "### Score: 36/39\n",
    "![cbmcscore](https://user-images.githubusercontent.com/56620132/224645665-3b387058-cf0d-4710-8036-870e2912577d.png)\n",
    "\n",
    "### Corrections\n",
    "12  I got De Morgan's laws wrong. C is wrong because when x and y are both true, (x && y) is true and (x || y) is true however, !(x ||y) is false. Therefore, (x && y) && !(x || y) will always be false. B is right because of De Morgan’s Law: the value of !(x || y) is equivalent to !x && !y. The only time x && y is true is when both x and y are true. When x and y are both true, !x && !y is false. Therefore, (x && y) && (!x && !y) will always be false as will (x && y) && !(x ||y).\n",
    "\n",
    "20  D is wrong because index is returned instead of m. The outer loop starts at 0 and loops through all the indices in arr. The inner loop starts at the index that is one more than outer and iterates through all indices to the right of this element. For each iteration of the inner loop, the element at the current value of outer is compared with each subsequent element. If the elements are equal, then count is incremented. This results in counting the number of occurrences of each value in the arr. After the inner loop terminates, if the number of occurrences of the current value is greater than previous highest count, the new count is assigned to m and the index of this element is stored in index. The method then returns the value of index, which represents the index of a value that occurs most often in nums. Therefore, E is correct.\n",
    "\n",
    "21  C is wrong because subtracting 1 would cause the last element in the list to be skipped so C is wrong. D is correct because to determine the size of an ArrayList we need to call the method size(). Each word will be separated by a comma, but no comma should appear after the last element in the list. Therefore, a comma is added as long as k does not equal the last index, sizeOfList – 1, since list indices start at 0."
   ]
  },
  {
   "attachments": {},
   "cell_type": "markdown",
   "metadata": {},
   "source": [
    "## 2017 FRQ Q1 (Methods and Control Structures question type)"
   ]
  },
  {
   "cell_type": "code",
   "execution_count": null,
   "metadata": {},
   "outputs": [],
   "source": [
    "import java.util.ArrayList;\n",
    "\n",
    "public class Digits {\n",
    "    /** The list of digits from the number used to construct this object.\n",
    "     *  The digits appear in the list in the same order in which they appear in the original number.\n",
    "     */\n",
    "    private ArrayList<Integer> digitList;\n",
    "\n",
    "    /** Constructs a Digits object that represents num.\n",
    "     *  Precondition: num >= 0\n",
    "     */\n",
    "    public Digits(int num) {\n",
    "        \n",
    "    }\n",
    "\n",
    "    /** Returns true if the digits in this Digits object are in strictly increasing order;\n",
    "     *          false otherwise.\n",
    "     */\n",
    "    public boolean isStrictlyIncreasing() {\n",
    "        \n",
    "    }\n",
    "\n",
    "    public static void main(String[] Args) {\n",
    "        \n",
    "    }\n",
    "}"
   ]
  }
 ],
 "metadata": {
  "kernelspec": {
   "display_name": "Python 3",
   "language": "python",
   "name": "python3"
  },
  "language_info": {
   "codemirror_mode": {
    "name": "ipython",
    "version": 3
   },
   "file_extension": ".py",
   "mimetype": "text/x-python",
   "name": "python",
   "nbconvert_exporter": "python",
   "pygments_lexer": "ipython3",
   "version": "3.10.2"
  },
  "orig_nbformat": 4,
  "vscode": {
   "interpreter": {
    "hash": "59ce7d6bb8cd4ae6d5cf8ba5759d47519be8aa1ee658f53dd34a0e354aee55b2"
   }
  }
 },
 "nbformat": 4,
 "nbformat_minor": 2
}
